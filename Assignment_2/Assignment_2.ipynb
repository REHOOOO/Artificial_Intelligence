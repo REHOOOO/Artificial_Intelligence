{
 "cells": [
  {
   "cell_type": "markdown",
   "id": "1cb75138",
   "metadata": {},
   "source": [
    "# 강화학습 구현과 실현"
   ]
  },
  {
   "cell_type": "markdown",
   "id": "7d3b7eb7",
   "metadata": {},
   "source": []
  },
  {
   "cell_type": "markdown",
   "id": "da64c041",
   "metadata": {},
   "source": [
    "## 설치"
   ]
  },
  {
   "cell_type": "code",
   "execution_count": 8,
   "id": "61256157",
   "metadata": {
    "scrolled": true
   },
   "outputs": [
    {
     "name": "stdout",
     "output_type": "stream",
     "text": [
      "Requirement already satisfied: tensorflow in c:\\users\\ryu\\appdata\\local\\programs\\python\\python310\\lib\\site-packages (2.14.0)\n",
      "Requirement already satisfied: tensorflow-intel==2.14.0 in c:\\users\\ryu\\appdata\\local\\programs\\python\\python310\\lib\\site-packages (from tensorflow) (2.14.0)\n",
      "Requirement already satisfied: absl-py>=1.0.0 in c:\\users\\ryu\\appdata\\local\\programs\\python\\python310\\lib\\site-packages (from tensorflow-intel==2.14.0->tensorflow) (2.0.0)\n",
      "Requirement already satisfied: astunparse>=1.6.0 in c:\\users\\ryu\\appdata\\local\\programs\\python\\python310\\lib\\site-packages (from tensorflow-intel==2.14.0->tensorflow) (1.6.3)\n",
      "Requirement already satisfied: flatbuffers>=23.5.26 in c:\\users\\ryu\\appdata\\local\\programs\\python\\python310\\lib\\site-packages (from tensorflow-intel==2.14.0->tensorflow) (23.5.26)\n",
      "Requirement already satisfied: gast!=0.5.0,!=0.5.1,!=0.5.2,>=0.2.1 in c:\\users\\ryu\\appdata\\local\\programs\\python\\python310\\lib\\site-packages (from tensorflow-intel==2.14.0->tensorflow) (0.5.4)\n",
      "Requirement already satisfied: google-pasta>=0.1.1 in c:\\users\\ryu\\appdata\\local\\programs\\python\\python310\\lib\\site-packages (from tensorflow-intel==2.14.0->tensorflow) (0.2.0)\n",
      "Requirement already satisfied: h5py>=2.9.0 in c:\\users\\ryu\\appdata\\local\\programs\\python\\python310\\lib\\site-packages (from tensorflow-intel==2.14.0->tensorflow) (3.10.0)\n",
      "Requirement already satisfied: libclang>=13.0.0 in c:\\users\\ryu\\appdata\\local\\programs\\python\\python310\\lib\\site-packages (from tensorflow-intel==2.14.0->tensorflow) (16.0.6)\n",
      "Requirement already satisfied: ml-dtypes==0.2.0 in c:\\users\\ryu\\appdata\\local\\programs\\python\\python310\\lib\\site-packages (from tensorflow-intel==2.14.0->tensorflow) (0.2.0)\n",
      "Requirement already satisfied: numpy>=1.23.5 in c:\\users\\ryu\\appdata\\local\\programs\\python\\python310\\lib\\site-packages (from tensorflow-intel==2.14.0->tensorflow) (1.24.2)\n",
      "Requirement already satisfied: opt-einsum>=2.3.2 in c:\\users\\ryu\\appdata\\local\\programs\\python\\python310\\lib\\site-packages (from tensorflow-intel==2.14.0->tensorflow) (3.3.0)\n",
      "Requirement already satisfied: packaging in c:\\users\\ryu\\appdata\\local\\programs\\python\\python310\\lib\\site-packages (from tensorflow-intel==2.14.0->tensorflow) (23.1)\n",
      "Requirement already satisfied: protobuf!=4.21.0,!=4.21.1,!=4.21.2,!=4.21.3,!=4.21.4,!=4.21.5,<5.0.0dev,>=3.20.3 in c:\\users\\ryu\\appdata\\local\\programs\\python\\python310\\lib\\site-packages (from tensorflow-intel==2.14.0->tensorflow) (4.24.4)\n",
      "Requirement already satisfied: setuptools in c:\\users\\ryu\\appdata\\local\\programs\\python\\python310\\lib\\site-packages (from tensorflow-intel==2.14.0->tensorflow) (65.5.0)\n",
      "Requirement already satisfied: six>=1.12.0 in c:\\users\\ryu\\appdata\\local\\programs\\python\\python310\\lib\\site-packages (from tensorflow-intel==2.14.0->tensorflow) (1.16.0)\n",
      "Requirement already satisfied: termcolor>=1.1.0 in c:\\users\\ryu\\appdata\\local\\programs\\python\\python310\\lib\\site-packages (from tensorflow-intel==2.14.0->tensorflow) (2.3.0)\n",
      "Requirement already satisfied: typing-extensions>=3.6.6 in c:\\users\\ryu\\appdata\\local\\programs\\python\\python310\\lib\\site-packages (from tensorflow-intel==2.14.0->tensorflow) (4.8.0)\n",
      "Requirement already satisfied: wrapt<1.15,>=1.11.0 in c:\\users\\ryu\\appdata\\local\\programs\\python\\python310\\lib\\site-packages (from tensorflow-intel==2.14.0->tensorflow) (1.14.1)\n",
      "Requirement already satisfied: tensorflow-io-gcs-filesystem>=0.23.1 in c:\\users\\ryu\\appdata\\local\\programs\\python\\python310\\lib\\site-packages (from tensorflow-intel==2.14.0->tensorflow) (0.31.0)\n",
      "Requirement already satisfied: grpcio<2.0,>=1.24.3 in c:\\users\\ryu\\appdata\\local\\programs\\python\\python310\\lib\\site-packages (from tensorflow-intel==2.14.0->tensorflow) (1.59.0)\n",
      "Requirement already satisfied: tensorboard<2.15,>=2.14 in c:\\users\\ryu\\appdata\\local\\programs\\python\\python310\\lib\\site-packages (from tensorflow-intel==2.14.0->tensorflow) (2.14.1)\n",
      "Requirement already satisfied: tensorflow-estimator<2.15,>=2.14.0 in c:\\users\\ryu\\appdata\\local\\programs\\python\\python310\\lib\\site-packages (from tensorflow-intel==2.14.0->tensorflow) (2.14.0)\n",
      "Requirement already satisfied: keras<2.15,>=2.14.0 in c:\\users\\ryu\\appdata\\local\\programs\\python\\python310\\lib\\site-packages (from tensorflow-intel==2.14.0->tensorflow) (2.14.0)\n",
      "Requirement already satisfied: wheel<1.0,>=0.23.0 in c:\\users\\ryu\\appdata\\local\\programs\\python\\python310\\lib\\site-packages (from astunparse>=1.6.0->tensorflow-intel==2.14.0->tensorflow) (0.41.2)\n",
      "Requirement already satisfied: google-auth<3,>=1.6.3 in c:\\users\\ryu\\appdata\\local\\programs\\python\\python310\\lib\\site-packages (from tensorboard<2.15,>=2.14->tensorflow-intel==2.14.0->tensorflow) (2.23.3)\n",
      "Requirement already satisfied: google-auth-oauthlib<1.1,>=0.5 in c:\\users\\ryu\\appdata\\local\\programs\\python\\python310\\lib\\site-packages (from tensorboard<2.15,>=2.14->tensorflow-intel==2.14.0->tensorflow) (1.0.0)\n",
      "Requirement already satisfied: markdown>=2.6.8 in c:\\users\\ryu\\appdata\\local\\programs\\python\\python310\\lib\\site-packages (from tensorboard<2.15,>=2.14->tensorflow-intel==2.14.0->tensorflow) (3.5)\n",
      "Requirement already satisfied: requests<3,>=2.21.0 in c:\\users\\ryu\\appdata\\local\\programs\\python\\python310\\lib\\site-packages (from tensorboard<2.15,>=2.14->tensorflow-intel==2.14.0->tensorflow) (2.31.0)\n",
      "Requirement already satisfied: tensorboard-data-server<0.8.0,>=0.7.0 in c:\\users\\ryu\\appdata\\local\\programs\\python\\python310\\lib\\site-packages (from tensorboard<2.15,>=2.14->tensorflow-intel==2.14.0->tensorflow) (0.7.1)\n",
      "Requirement already satisfied: werkzeug>=1.0.1 in c:\\users\\ryu\\appdata\\local\\programs\\python\\python310\\lib\\site-packages (from tensorboard<2.15,>=2.14->tensorflow-intel==2.14.0->tensorflow) (3.0.0)\n",
      "Requirement already satisfied: cachetools<6.0,>=2.0.0 in c:\\users\\ryu\\appdata\\local\\programs\\python\\python310\\lib\\site-packages (from google-auth<3,>=1.6.3->tensorboard<2.15,>=2.14->tensorflow-intel==2.14.0->tensorflow) (5.3.1)\n",
      "Requirement already satisfied: pyasn1-modules>=0.2.1 in c:\\users\\ryu\\appdata\\local\\programs\\python\\python310\\lib\\site-packages (from google-auth<3,>=1.6.3->tensorboard<2.15,>=2.14->tensorflow-intel==2.14.0->tensorflow) (0.3.0)\n",
      "Requirement already satisfied: rsa<5,>=3.1.4 in c:\\users\\ryu\\appdata\\local\\programs\\python\\python310\\lib\\site-packages (from google-auth<3,>=1.6.3->tensorboard<2.15,>=2.14->tensorflow-intel==2.14.0->tensorflow) (4.9)\n",
      "Requirement already satisfied: requests-oauthlib>=0.7.0 in c:\\users\\ryu\\appdata\\local\\programs\\python\\python310\\lib\\site-packages (from google-auth-oauthlib<1.1,>=0.5->tensorboard<2.15,>=2.14->tensorflow-intel==2.14.0->tensorflow) (1.3.1)\n",
      "Requirement already satisfied: charset-normalizer<4,>=2 in c:\\users\\ryu\\appdata\\local\\programs\\python\\python310\\lib\\site-packages (from requests<3,>=2.21.0->tensorboard<2.15,>=2.14->tensorflow-intel==2.14.0->tensorflow) (3.3.0)\n",
      "Requirement already satisfied: idna<4,>=2.5 in c:\\users\\ryu\\appdata\\local\\programs\\python\\python310\\lib\\site-packages (from requests<3,>=2.21.0->tensorboard<2.15,>=2.14->tensorflow-intel==2.14.0->tensorflow) (3.4)\n",
      "Requirement already satisfied: urllib3<3,>=1.21.1 in c:\\users\\ryu\\appdata\\local\\programs\\python\\python310\\lib\\site-packages (from requests<3,>=2.21.0->tensorboard<2.15,>=2.14->tensorflow-intel==2.14.0->tensorflow) (2.0.6)\n",
      "Requirement already satisfied: certifi>=2017.4.17 in c:\\users\\ryu\\appdata\\local\\programs\\python\\python310\\lib\\site-packages (from requests<3,>=2.21.0->tensorboard<2.15,>=2.14->tensorflow-intel==2.14.0->tensorflow) (2023.7.22)\n",
      "Requirement already satisfied: MarkupSafe>=2.1.1 in c:\\users\\ryu\\appdata\\local\\programs\\python\\python310\\lib\\site-packages (from werkzeug>=1.0.1->tensorboard<2.15,>=2.14->tensorflow-intel==2.14.0->tensorflow) (2.1.2)\n",
      "Requirement already satisfied: pyasn1<0.6.0,>=0.4.6 in c:\\users\\ryu\\appdata\\local\\programs\\python\\python310\\lib\\site-packages (from pyasn1-modules>=0.2.1->google-auth<3,>=1.6.3->tensorboard<2.15,>=2.14->tensorflow-intel==2.14.0->tensorflow) (0.5.0)\n",
      "Requirement already satisfied: oauthlib>=3.0.0 in c:\\users\\ryu\\appdata\\local\\programs\\python\\python310\\lib\\site-packages (from requests-oauthlib>=0.7.0->google-auth-oauthlib<1.1,>=0.5->tensorboard<2.15,>=2.14->tensorflow-intel==2.14.0->tensorflow) (3.2.2)\n"
     ]
    }
   ],
   "source": [
    "!pip install tensorflow"
   ]
  },
  {
   "cell_type": "markdown",
   "id": "e38ad440",
   "metadata": {},
   "source": [
    "## import"
   ]
  },
  {
   "cell_type": "code",
   "execution_count": 8,
   "id": "00b5bb3c",
   "metadata": {},
   "outputs": [
    {
     "name": "stdout",
     "output_type": "stream",
     "text": [
      "WARNING:tensorflow:From C:\\Users\\Ryu\\AppData\\Local\\Programs\\Python\\Python310\\lib\\site-packages\\tensorflow\\python\\compat\\v2_compat.py:108: disable_resource_variables (from tensorflow.python.ops.variable_scope) is deprecated and will be removed in a future version.\n",
      "Instructions for updating:\n",
      "non-resource variables are not supported in the long term\n"
     ]
    }
   ],
   "source": [
    "import tensorflow as tf\n",
    "import numpy as np\n",
    "import random\n",
    "import math\n",
    "import os"
   ]
  },
  {
   "cell_type": "markdown",
   "id": "1531a439",
   "metadata": {},
   "source": [
    "## 파라미터 설정"
   ]
  },
  {
   "cell_type": "code",
   "execution_count": 2,
   "id": "3eb14248",
   "metadata": {},
   "outputs": [],
   "source": [
    "epsilon = 1  # 랜덤하게 행동할 확률\n",
    "epsilonMinimumValue = 0.001  # epsilon의 최소값\n",
    "nbActions = 3  # 행동의 개수 (왼쪽, 대기, 오른쪽)\n",
    "epoch = 1001  # 게임 반복횟수\n",
    "hiddenSize = 100  # 히든 레이어 뉴런 개수\n",
    "maxMemory = 500  # 게임내용을 기억하는 최대 개수\n",
    "batchSize = 50  # 학습시 데이터 묶음 개수\n",
    "gridSize = 10  # 격자 크기\n",
    "nbStates = gridSize * gridSize  # 상태 개수\n",
    "discount = 0.9  # 감소값\n",
    "learningRate = 0.2  # 학습률"
   ]
  },
  {
   "cell_type": "markdown",
   "id": "3545422f",
   "metadata": {},
   "source": [
    "## 모델 설정"
   ]
  },
  {
   "cell_type": "markdown",
   "id": "6e5d7238",
   "metadata": {},
   "source": [
    "### 입력 레이어"
   ]
  },
  {
   "cell_type": "code",
   "execution_count": 9,
   "id": "43bef925",
   "metadata": {},
   "outputs": [],
   "source": [
    "X = tf.placeholder(tf.float32, [None, nbStates])\n",
    "W1 = tf.Variable(tf.truncated_normal([nbStates, hiddenSize], stddev=1.0 / math.sqrt(float(nbStates))))\n",
    "b1 = tf.Variable(tf.truncated_normal([hiddenSize], stddev=0.01))  \n",
    "input_layer = tf.nn.relu(tf.matmul(X, W1) + b1)"
   ]
  },
  {
   "cell_type": "markdown",
   "id": "c081ec08",
   "metadata": {},
   "source": [
    "### 히든 레이어"
   ]
  },
  {
   "cell_type": "code",
   "execution_count": 10,
   "id": "726af6ba",
   "metadata": {},
   "outputs": [],
   "source": [
    "W2 = tf.Variable(tf.truncated_normal([hiddenSize, hiddenSize],stddev=1.0 / math.sqrt(float(hiddenSize))))\n",
    "b2 = tf.Variable(tf.truncated_normal([hiddenSize], stddev=0.01))\n",
    "hidden_layer = tf.nn.relu(tf.matmul(input_layer, W2) + b2)"
   ]
  },
  {
   "cell_type": "markdown",
   "id": "83214b22",
   "metadata": {},
   "source": [
    "### 출력 레이어"
   ]
  },
  {
   "cell_type": "code",
   "execution_count": 11,
   "id": "6a7fa893",
   "metadata": {},
   "outputs": [],
   "source": [
    "W3 = tf.Variable(tf.truncated_normal([hiddenSize, nbActions],stddev=1.0 / math.sqrt(float(hiddenSize))))\n",
    "b3 = tf.Variable(tf.truncated_normal([nbActions], stddev=0.01))\n",
    "output_layer = tf.matmul(hidden_layer, W3) + b3"
   ]
  },
  {
   "cell_type": "markdown",
   "id": "6a38d445",
   "metadata": {},
   "source": [
    "### 목표값 플레이스홀더"
   ]
  },
  {
   "cell_type": "code",
   "execution_count": null,
   "id": "faff8818",
   "metadata": {},
   "outputs": [],
   "source": [
    "Y = tf.placeholder(tf.float32, [None, nbActions])"
   ]
  },
  {
   "cell_type": "markdown",
   "id": "9dc48f32",
   "metadata": {},
   "source": [
    "### 목표값과 출력값의 차이인 코스트"
   ]
  },
  {
   "cell_type": "code",
   "execution_count": null,
   "id": "9d4a5486",
   "metadata": {},
   "outputs": [],
   "source": [
    "cost = tf.reduce_sum(tf.square(Y-output_layer)) / (2*batchSize)"
   ]
  },
  {
   "cell_type": "markdown",
   "id": "864aea12",
   "metadata": {},
   "source": [
    "### 경사하강법으로 코스트가 최소가 되는 값 찾음"
   ]
  },
  {
   "cell_type": "code",
   "execution_count": null,
   "id": "1c6b9f0a",
   "metadata": {},
   "outputs": [],
   "source": [
    "optimizer = tf.train.GradientDescentOptimizer(learningRate).minimize(cost)"
   ]
  },
  {
   "cell_type": "markdown",
   "id": "220c59ca",
   "metadata": {},
   "source": [
    "## 랜덤값 구함"
   ]
  },
  {
   "cell_type": "code",
   "execution_count": null,
   "id": "dfdf95a9",
   "metadata": {},
   "outputs": [],
   "source": [
    "def randf(s, e):\n",
    "    return (float(random.randrange(0, (e - s) * 9999)) / 10000) + s;"
   ]
  },
  {
   "cell_type": "markdown",
   "id": "c277ba72",
   "metadata": {},
   "source": [
    "## 환경 클래스"
   ]
  },
  {
   "cell_type": "code",
   "execution_count": null,
   "id": "db22df16",
   "metadata": {},
   "outputs": [],
   "source": [
    "class CatchEnvironment():"
   ]
  },
  {
   "cell_type": "markdown",
   "id": "6e7e2f97",
   "metadata": {},
   "source": [
    "### 초기화"
   ]
  },
  {
   "cell_type": "code",
   "execution_count": null,
   "id": "5fe2df6b",
   "metadata": {},
   "outputs": [],
   "source": [
    "def __init__(self, gridSize):\n",
    "    self.gridSize = gridSize\n",
    "    self.nbStates = self.gridSize * self.gridSize\n",
    "    self.state = np.empty(3, dtype = np.uint8) "
   ]
  },
  {
   "cell_type": "markdown",
   "id": "ee6cfd27",
   "metadata": {},
   "source": [
    "### 화면정보 리턴"
   ]
  },
  {
   "cell_type": "code",
   "execution_count": null,
   "id": "0765fbb8",
   "metadata": {},
   "outputs": [],
   "source": [
    "def observe(self):\n",
    "    canvas = self.drawState()\n",
    "    canvas = np.reshape(canvas, (-1,self.nbStates))\n",
    "    return canvas"
   ]
  },
  {
   "cell_type": "markdown",
   "id": "ce3642fc",
   "metadata": {},
   "source": [
    "### 블럭과 바를 표시하여 화면정보 리턴"
   ]
  },
  {
   "cell_type": "code",
   "execution_count": null,
   "id": "8a65d17d",
   "metadata": {},
   "outputs": [],
   "source": [
    "def drawState(self):\n",
    "    canvas = np.zeros((self.gridSize, self.gridSize))\n",
    "    \n",
    "    # 과일 표시\n",
    "    canvas[self.state[0]-1, self.state[1]-1] = 1\n",
    "\n",
    "    # 바구니 표시\n",
    "    canvas[self.gridSize-1, self.state[2] -1 - 1] = 1\n",
    "    canvas[self.gridSize-1, self.state[2] -1] = 1\n",
    "    canvas[self.gridSize-1, self.state[2] -1 + 1] = 1    \n",
    "    return canvas "
   ]
  },
  {
   "cell_type": "markdown",
   "id": "6405bde8",
   "metadata": {},
   "source": [
    "### 과일과 바구니 위치 초기화"
   ]
  },
  {
   "cell_type": "code",
   "execution_count": null,
   "id": "2f66e6fd",
   "metadata": {},
   "outputs": [],
   "source": [
    " def reset(self): \n",
    "    initialFruitColumn = random.randrange(1, self.gridSize + 1)\n",
    "    initialBucketPosition = random.randrange(2, self.gridSize + 1 - 1)\n",
    "    self.state = np.array([1, initialFruitColumn, initialBucketPosition]) \n",
    "    return self.getState()"
   ]
  },
  {
   "cell_type": "markdown",
   "id": "d983e47b",
   "metadata": {},
   "source": [
    "### 상태 리턴"
   ]
  },
  {
   "cell_type": "code",
   "execution_count": null,
   "id": "1ebb33d6",
   "metadata": {},
   "outputs": [],
   "source": [
    "def getState(self):\n",
    "    stateInfo = self.state\n",
    "    fruit_row = stateInfo[0]\n",
    "    fruit_col = stateInfo[1]\n",
    "    basket = stateInfo[2]\n",
    "    return fruit_row, fruit_col, basket"
   ]
  },
  {
   "cell_type": "markdown",
   "id": "6eb06dcf",
   "metadata": {},
   "source": [
    "### 보상값 리턴"
   ]
  },
  {
   "cell_type": "code",
   "execution_count": null,
   "id": "496f4cb8",
   "metadata": {},
   "outputs": [],
   "source": [
    "def getReward(self):\n",
    "    fruitRow, fruitColumn, basket = self.getState()\n",
    "    if (fruitRow == self.gridSize - 1):  # If the fruit has reached the bottom.\n",
    "        if (abs(fruitColumn - basket) <= 1): # Check if the basket caught the fruit.\n",
    "        return 1\n",
    "      else:\n",
    "        return -1\n",
    "    else:\n",
    "        return 0"
   ]
  },
  {
   "cell_type": "markdown",
   "id": "7ffdb460",
   "metadata": {},
   "source": [
    "### 게임오버 검사"
   ]
  },
  {
   "cell_type": "code",
   "execution_count": null,
   "id": "c813ca3a",
   "metadata": {},
   "outputs": [],
   "source": [
    "def isGameOver(self):\n",
    "    if (self.state[0] == self.gridSize - 1): \n",
    "        return True \n",
    "    else: \n",
    "        return False "
   ]
  },
  {
   "cell_type": "markdown",
   "id": "baef6f91",
   "metadata": {},
   "source": [
    "### 상태 업데이트"
   ]
  },
  {
   "cell_type": "code",
   "execution_count": null,
   "id": "cfb17ce7",
   "metadata": {},
   "outputs": [],
   "source": [
    "def updateState(self, action):\n",
    "    if (action == 1):\n",
    "        action = -1  # 왼쪽 이동\n",
    "    elif (action == 2):\n",
    "        action = 0  # 대기\n",
    "    else:\n",
    "        action = 1  # 오른쪽 이동\n",
    "    fruitRow, fruitColumn, basket = self.getState()\n",
    "    newBasket = min(max(2, basket + action), self.gridSize - 1)  # 바구니 위치 변경\n",
    "    fruitRow = fruitRow + 1  # 과일을 아래로 이동\n",
    "    self.state = np.array([fruitRow, fruitColumn, newBasket])"
   ]
  },
  {
   "cell_type": "markdown",
   "id": "50cfe0b0",
   "metadata": {},
   "source": [
    "### 행동 수행 (1->왼쪽, 2->대기, 3->오른쪽)"
   ]
  },
  {
   "cell_type": "code",
   "execution_count": null,
   "id": "4650f016",
   "metadata": {},
   "outputs": [],
   "source": [
    " def act(self, action):\n",
    "    self.updateState(action)\n",
    "    reward = self.getReward()\n",
    "    gameOver = self.isGameOver()\n",
    "    return self.observe(), reward, gameOver, self.getState() "
   ]
  },
  {
   "cell_type": "markdown",
   "id": "786203dd",
   "metadata": {},
   "source": [
    "## 메모리 클래스 (게임내용을 저장하고 나중에 배치로 묶어 학습에 사용)"
   ]
  },
  {
   "cell_type": "code",
   "execution_count": null,
   "id": "99958cc6",
   "metadata": {},
   "outputs": [],
   "source": [
    "class ReplayMemory:"
   ]
  },
  {
   "cell_type": "markdown",
   "id": "5b6324e4",
   "metadata": {},
   "source": [
    "### 초기화"
   ]
  },
  {
   "cell_type": "code",
   "execution_count": null,
   "id": "43261cf0",
   "metadata": {},
   "outputs": [],
   "source": [
    "def __init__(self, gridSize, maxMemory, discount):\n",
    "    self.maxMemory = maxMemory\n",
    "    self.gridSize = gridSize\n",
    "    self.nbStates = self.gridSize * self.gridSize\n",
    "    self.discount = discount\n",
    "    canvas = np.zeros((self.gridSize, self.gridSize))\n",
    "    canvas = np.reshape(canvas, (-1,self.nbStates))\n",
    "    self.inputState = np.empty((self.maxMemory, 100), dtype = np.float32)\n",
    "    self.actions = np.zeros(self.maxMemory, dtype = np.uint8)\n",
    "    self.nextState = np.empty((self.maxMemory, 100), dtype = np.float32)\n",
    "    self.gameOver = np.empty(self.maxMemory, dtype = np.bool)\n",
    "    self.rewards = np.empty(self.maxMemory, dtype = np.int8) \n",
    "    self.count = 0\n",
    "    self.current = 0"
   ]
  },
  {
   "cell_type": "markdown",
   "id": "50f8845d",
   "metadata": {},
   "source": [
    "### 게임내용 추가"
   ]
  },
  {
   "cell_type": "code",
   "execution_count": null,
   "id": "f224a6d2",
   "metadata": {},
   "outputs": [],
   "source": [
    "def remember(self, currentState, action, reward, nextState, gameOver):\n",
    "    self.actions[self.current] = action\n",
    "    self.rewards[self.current] = reward\n",
    "    self.inputState[self.current, ...] = currentState\n",
    "    self.nextState[self.current, ...] = nextState\n",
    "    self.gameOver[self.current] = gameOver\n",
    "    self.count = max(self.count, self.current + 1)\n",
    "    self.current = (self.current + 1) % self.maxMemory"
   ]
  },
  {
   "cell_type": "markdown",
   "id": "4bf6065a",
   "metadata": {},
   "source": [
    "### 게임내용을 배치로 묶어서 리턴"
   ]
  },
  {
   "cell_type": "code",
   "execution_count": null,
   "id": "daf4be46",
   "metadata": {},
   "outputs": [],
   "source": [
    "def getBatch(self, model, batchSize, nbActions, nbStates, sess, X):\n",
    "    memoryLength = self.count\n",
    "    chosenBatchSize = min(batchSize, memoryLength)\n",
    "    inputs = np.zeros((chosenBatchSize, nbStates))\n",
    "    targets = np.zeros((chosenBatchSize, nbActions))\n",
    "\n",
    "    for i in xrange(chosenBatchSize):\n",
    "        # 메모리에서 랜덤하게 선택\n",
    "        randomIndex = random.randrange(0, memoryLength)\n",
    "        current_inputState = np.reshape(self.inputState[randomIndex], (1, 100))\n",
    "        target = sess.run(model, feed_dict={X: current_inputState})\n",
    "        \n",
    "        current_nextState = np.reshape(self.nextState[randomIndex], (1, 100))\n",
    "        current_outputs = sess.run(model, feed_dict={X: current_nextState})      \n",
    "      \n",
    "        # 다음 상태의 최대 Q값\n",
    "        nextStateMaxQ = np.amax(current_outputs)\n",
    "\n",
    "\n",
    "        if (self.gameOver[randomIndex] == True):\n",
    "        # 게임오버일때 Q값은 보상값으로 설정\n",
    "        target[0, [self.actions[randomIndex]-1]] = self.rewards[randomIndex]\n",
    "        else:\n",
    "        # Q값을 계산\n",
    "        # reward + discount(gamma) * max_a' Q(s',a')\n",
    "        target[0, [self.actions[randomIndex]-1]] = self.rewards[randomIndex] +self.discount * nextStateMaxQ\n",
    "        inputs[i] = current_inputState\n",
    "        targets[i] = target\n",
    "    return inputs, targets"
   ]
  },
  {
   "cell_type": "markdown",
   "id": "28cb1991",
   "metadata": {},
   "source": [
    "###  메인함수"
   ]
  },
  {
   "cell_type": "code",
   "execution_count": null,
   "id": "57bc188d",
   "metadata": {},
   "outputs": [],
   "source": [
    "def main(_):\n",
    "    print(\"Training new model\")\n",
    "\n",
    "    # 환경 정의\n",
    "    env = CatchEnvironment(gridSize)\n",
    "\n",
    "    # 메모리 정의\n",
    "    memory = ReplayMemory(gridSize, maxMemory, discount)\n",
    "\n",
    "    # 세이버 설정\n",
    "    saver = tf.train.Saver()\n",
    "    \n",
    "    winCount = 0\n",
    "    with tf.Session() as sess:   \n",
    "        tf.initialize_all_variables().run() \n",
    "\n",
    "        for i in xrange(epoch):\n",
    "            err = 0\n",
    "            env.reset()\n",
    "      \n",
    "            isGameOver = False\n",
    "\n",
    "            currentState = env.observe()\n",
    "            \n",
    "            while (isGameOver != True):\n",
    "                action = -9999 \n",
    "\n",
    "                # 랜덤으로 행동을 할지 Q값에 따라 행동할지 결정\n",
    "                global epsilon\n",
    "                if (randf(0, 1) <= epsilon):\n",
    "                    action = random.randrange(1, nbActions+1)\n",
    "                else:          \n",
    "                    q = sess.run(output_layer, feed_dict={X: currentState})          \n",
    "                    index = q.argmax()\n",
    "                    action = index + 1     \n",
    "\n",
    " \n",
    "\n",
    "                # 랜덤으로 행동할 확률 감소\n",
    "                if (epsilon > epsilonMinimumValue):\n",
    "                  epsilon = epsilon * 0.999\n",
    "                \n",
    "                # 행동 수행\n",
    "                nextState, reward, gameOver, stateInfo = env.act(action)\n",
    "\n",
    "                # 승리 횟수 설정\n",
    "                if (reward == 1):\n",
    "                    winCount = winCount + 1\n",
    "\n",
    "                # 메모리에 저장\n",
    "                memory.remember(currentState, action, reward, nextState, gameOver)\n",
    "\n",
    "                # 다음 상태 설정\n",
    "                currentState = nextState\n",
    "                isGameOver = gameOver\n",
    "                \n",
    "                # 입력과 출력 데이터 배치를 구함\n",
    "                inputs, targets = memory.getBatch(output_layer, batchSize, nbActions, nbStates, sess, X)\n",
    "        \n",
    "                # 학습 수행\n",
    "                _, loss = sess.run([optimizer, cost], feed_dict={X: inputs, Y: targets})  \n",
    "                err = err + loss\n",
    "\n",
    "            print(\"Epoch \" + str(i) + \": err = \" + str(err) + \": Win count = \" + str(winCount) + \" Win ratio = \" + str(float(winCount)/float(i+1)*100))\n",
    "\n",
    "        # 모델 세션 저장\n",
    "        save_path = saver.save(sess, os.getcwd()+\"/model.ckpt\")\n",
    "        print(\"Model saved in file: %s\" % save_path)"
   ]
  },
  {
   "cell_type": "markdown",
   "id": "df511303",
   "metadata": {},
   "source": [
    "## 메인 함수 실행"
   ]
  },
  {
   "cell_type": "code",
   "execution_count": null,
   "id": "3fd6a393",
   "metadata": {},
   "outputs": [],
   "source": [
    "f __name__ == '__main__':\n",
    "    tf.app.run()"
   ]
  }
 ],
 "metadata": {
  "kernelspec": {
   "display_name": "Python 3 (ipykernel)",
   "language": "python",
   "name": "python3"
  },
  "language_info": {
   "codemirror_mode": {
    "name": "ipython",
    "version": 3
   },
   "file_extension": ".py",
   "mimetype": "text/x-python",
   "name": "python",
   "nbconvert_exporter": "python",
   "pygments_lexer": "ipython3",
   "version": "3.10.9"
  }
 },
 "nbformat": 4,
 "nbformat_minor": 5
}
