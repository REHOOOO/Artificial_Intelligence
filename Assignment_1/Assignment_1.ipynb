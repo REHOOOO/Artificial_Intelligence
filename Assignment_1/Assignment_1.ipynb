{
 "cells": [
  {
   "cell_type": "markdown",
   "id": "eca6e264",
   "metadata": {},
   "source": [
    "# 역전파 학습 알고리즘의 구현과 실험"
   ]
  },
  {
   "cell_type": "markdown",
   "id": "aad73728",
   "metadata": {},
   "source": [
    "## 설치"
   ]
  },
  {
   "cell_type": "code",
   "execution_count": null,
   "id": "68ef2170",
   "metadata": {},
   "outputs": [],
   "source": [
    "!pip install pillow # png 파일을 불러오기 위해 사용"
   ]
  },
  {
   "cell_type": "markdown",
   "id": "75312071",
   "metadata": {},
   "source": [
    "## import"
   ]
  },
  {
   "cell_type": "code",
   "execution_count": 154,
   "id": "fae6b85b",
   "metadata": {},
   "outputs": [],
   "source": [
    "import random\n",
    "import math\n",
    "from PIL import Image"
   ]
  },
  {
   "cell_type": "markdown",
   "id": "94be9b84",
   "metadata": {},
   "source": [
    "## 파라미터"
   ]
  },
  {
   "cell_type": "code",
   "execution_count": 191,
   "id": "264c7db3",
   "metadata": {},
   "outputs": [],
   "source": [
    "input_size=16*16 # 16 x 16 픽셀\n",
    "output_size = 7 # t, u, v, w, x, y, z 7개 \n",
    "hidden_size = 1000\n",
    "learning_cycle = 100 # 학습 사이클 횟수 \n",
    "data_set = 10 # 데이터 셋의 개수\n",
    "test_set = 20 # 추론시 사용하는 데이터 셋의 개수\n",
    "learning_rate = 0.05 # 학습률"
   ]
  },
  {
   "cell_type": "markdown",
   "id": "7637b468",
   "metadata": {},
   "source": [
    "## 신경망 구현  \n",
    "input_layer: 16 x 16 = 256개  \n",
    "hidden_layer1: 1000개  \n",
    "hidden_layer2: 1000개  \n",
    "output_layer: 7개  "
   ]
  },
  {
   "cell_type": "code",
   "execution_count": 192,
   "id": "80668d0e",
   "metadata": {},
   "outputs": [],
   "source": [
    "input_layer = [0]*input_size # input_layer를 만들어준다 \n",
    "output_layer = [0]*output_size # output_layer를 만들어준다 \n",
    "hidden_layer1 = [0]*hidden_size #hidden_layer1을 만들어준다\n",
    "hidden_layer2 = [0]*hidden_size #hidden_layer2를 만들어준다\n",
    "\n",
    "\n",
    "w1 = [[0 for col in range(input_size)]for row in range(hidden_size)] # 첫번째 가중치 (input_layer에서 hidden_layer로 가는 가중치)\n",
    "w2 = [[0 for col in range(hidden_size)]for row in range(hidden_size)] # 두번째 가중치 (hidden_layer1에서 hidden_layer2로 가는 가중치)\n",
    "w3 = [[0 for col in range(hidden_size)]for row in range(output_size)] # 세번째 가중치 (hidden_layer2에서 output_layer로 가는 가중치)"
   ]
  },
  {
   "cell_type": "markdown",
   "id": "06120f26",
   "metadata": {},
   "source": [
    "## 가중치 초기화 "
   ]
  },
  {
   "cell_type": "code",
   "execution_count": 193,
   "id": "bb84801e",
   "metadata": {},
   "outputs": [],
   "source": [
    "# w1 초기화\n",
    "for i in range(hidden_size): # 행의 개수만큼 for문을 돌려준다 \n",
    "    for j in range(input_size): # 열의 개수만큼 for문을 돌려준다 \n",
    "        w1[i][j]=float(round(random.random(),4)) # i행 j열의 값을 0이상 1미만의 랜덤값으로 만들어준다 소수점 4자리까지 표시(반올림해준다)\n",
    "\n",
    "# w2 초기화\n",
    "for i in range(hidden_size): # 행의 개수만큼 for문을 돌려준다 \n",
    "    for j in range(hidden_size): # 열의 개수만큼 for문을 돌려준다 \n",
    "        w2[i][j]=float(round(random.random(),4)) # i행 j열의 값을 0이상 1미만의 랜덤값으로 만들어준다 소수점 4자리까지 표시(반올림해준다)\n",
    "\n",
    "# w3 초기화\n",
    "for i in range(output_size): # 행의 개수만큼 for문을 돌려준다 \n",
    "    for j in range(hidden_size): # 열의 개수만큼 for문을 돌려준다 \n",
    "        w3[i][j]=float(round(random.random(),4)) # i행 j열의 값을 0이상 1미만의 랜덤값으로 만들어준다 소수점 4자리까지 표시(반올림해준다)\n"
   ]
  },
  {
   "cell_type": "markdown",
   "id": "61cd7259",
   "metadata": {},
   "source": [
    "## 행렬곱 함수"
   ]
  },
  {
   "cell_type": "code",
   "execution_count": 194,
   "id": "9096f53b",
   "metadata": {},
   "outputs": [],
   "source": [
    "def matrixmult(A, B): \n",
    "    row_A = len(A)\n",
    "    col_A = len(A[0])\n",
    "    row_B = len(B) # B는 input 값이기 떄문에 항상 열 개수가 1이다\n",
    "    \n",
    "    if col_A != row_B:\n",
    "        raise ValueError(\"행렬 곱셈이 불가능합니다\")\n",
    "    \n",
    "    C=[0]*row_A # C의 크기는 A의 행 수 x B의 열 수 인데 B의 열 수는 1이라 제외 \n",
    "    for i in range(row_A):\n",
    "            for k in range(col_A):\n",
    "                C[i] += A[i][k]*B[k] # 행렬곱 c[i][j] += A[i][k]*B[k][j](j는 B의 열 번호) 이지만 여기서는 B의 열 개수가 항상 1이므로 제외\n",
    "    return C"
   ]
  },
  {
   "cell_type": "markdown",
   "id": "ddae7d77",
   "metadata": {},
   "source": [
    "## 전치 함수"
   ]
  },
  {
   "cell_type": "code",
   "execution_count": 195,
   "id": "4d79e814",
   "metadata": {},
   "outputs": [],
   "source": [
    "def transeposed(a):\n",
    "    t = list(zip(*a))\n",
    "    return t"
   ]
  },
  {
   "cell_type": "markdown",
   "id": "8cb4b6cb",
   "metadata": {},
   "source": [
    "## 이미지 함수"
   ]
  },
  {
   "cell_type": "code",
   "execution_count": 196,
   "id": "1f91668d",
   "metadata": {},
   "outputs": [],
   "source": [
    "def img_processing(alphabet,num,check): # 마지막 입력이 0이면 학습 1이면 추론으로 본다\n",
    "    if(check==0):\n",
    "        img_path = str('./image/learning/'+(chr(alphabet+ord('t')))+str(num+1)+'.png') \n",
    "    else:\n",
    "        img_path = str('./image/input/'+(chr(alphabet+ord('t')))+str(num+1)+'.png') \n",
    "    img = Image.open(img_path) # 이미지를 불러온다\n",
    "    img = img.convert(\"L\") # 이미지를 흑백으로 바꾼다 (0~255의 값을 가진다)\n",
    "    img = list(img.getdata()) # 이미지 데이터를 list 형태로 바꾸어준다 \n",
    "    \n",
    "    for i in range(len(img)): # img가 0~1사이의 값을 가질 수 있도록 정규화 해준다 \n",
    "        img[i] = img[i]/255 \n",
    "    \n",
    "    return img"
   ]
  },
  {
   "cell_type": "markdown",
   "id": "d8b2b540",
   "metadata": {},
   "source": [
    "## 순전파 함수"
   ]
  },
  {
   "cell_type": "code",
   "execution_count": 197,
   "id": "4eae0315",
   "metadata": {},
   "outputs": [],
   "source": [
    "def FP(img): \n",
    "    #### input_layer ####\n",
    "    for i in range(input_size):\n",
    "        input_layer[i] = float(img[i]) # input_layer에 이미지를 넣어준다\n",
    "    \n",
    "    #### hidden_layer1 ####\n",
    "    hidden_input1 = matrixmult(w1, input_layer) # 행렬곱을 해준다 (가중치 계산 input_layer -> hidden_layer1)\n",
    "            \n",
    "    for i in range(hidden_size):\n",
    "        hidden_layer1[i] = hidden_input1[i] # hidden_layer1에 행렬곱한 결과를 넣어준다 \n",
    "            \n",
    "    hidden_output1 = [0]*hidden_size # hidden_layer1의 output을 초기화 해준다 \n",
    "    for i in range(hidden_size): \n",
    "        hidden_output1[i] = max(0,hidden_layer1[i]) # ReLU연산을 해준다음 hidden_output1에 저장해준다 \n",
    "    \n",
    "    #### hidden_layer2 ####\n",
    "    hidden_input2 = matrixmult(w2, hidden_output1) # 행렬곱을 해준다 (가중치 계산 hidden_layer1 -> hidden_layer2)\n",
    "    \n",
    "    for i in range(hidden_size):\n",
    "        hidden_layer2[i]=hidden_input2[i] # hidden_layer2에 행렬곱한 결과를 넣어준다 \n",
    "        \n",
    "    hidden_output2 = [0]*hidden_size # hidden_layer2의 output을 초기화 해준다 \n",
    "    for i in range(hidden_size):\n",
    "        hidden_output2[i]=max(0,hidden_layer2[i]) # ReLU연산을 해준다음 hidden_output2에 저장해준다 \n",
    "    \n",
    "    #### output_layer ####\n",
    "    output_input = matrixmult(w3, hidden_output2) # 행렬곱을 해준다 (가중치 계산 hidden_layer2 -> output_layer)\n",
    "    \n",
    "    for i in range(output_size):\n",
    "        output_layer[i]=output_input[i] # output_layer에 행렬곱한 결과를 넣어준다 \n",
    "        \n",
    "    output_output = [0]*output_size # output_layer의 output을 초기화 해준다\n",
    "    for i in range(output_size):\n",
    "        output_output[i]=max(0,output_layer[i])\n",
    "        \n",
    "    return hidden_output1, hidden_output2, output_output\n",
    "    \n",
    "    \n",
    "    "
   ]
  },
  {
   "cell_type": "markdown",
   "id": "db4b3a78",
   "metadata": {},
   "source": [
    "## 오차 역전파 함수"
   ]
  },
  {
   "cell_type": "code",
   "execution_count": 198,
   "id": "04026048",
   "metadata": {},
   "outputs": [],
   "source": [
    "def BP(output, target):\n",
    "    \n",
    "    output_error=[0]*output_size\n",
    "    for i in range(output_size):\n",
    "        if i == target: # 만약 x가 target과 같다면 목표값을 1로 설정해준다\n",
    "            output_error[i] = float(1 - output[i]) # 오차 = 목표값 - 결과값 \n",
    "        else:    # target과 다르다면 목표값을 0으로 설정해준다 \n",
    "            output_error[i] = float(0 - output[i]) # 오차 = 목표값 - 결과값\n",
    "            \n",
    "    hidden_error2 = matrixmult(transeposed(w3), output_error) # 가중치 행렬을 전치하게되면 역전파 행렬이 된다 \n",
    "    hidden_error1 = matrixmult(transeposed(w2), hidden_error2)\n",
    "    input_error = matrixmult(transeposed(w1), hidden_error1)\n",
    "    \n",
    "    return input_error, hidden_error1, hidden_error2, output_error\n",
    "    "
   ]
  },
  {
   "cell_type": "markdown",
   "id": "cb750323",
   "metadata": {},
   "source": [
    "## 가중치 업데이트"
   ]
  },
  {
   "cell_type": "code",
   "execution_count": 199,
   "id": "f9cd1281",
   "metadata": {},
   "outputs": [],
   "source": [
    "def update(hidden_output1, hidden_output2, hidden_error1, hidden_error2, output_error):\n",
    "    # 가중치 업데이트값 초기화\n",
    "    dw1 = [[0 for col in range(input_size)]for row in range(hidden_size)] # 첫번째 가중치 (input_layer에서 hidden_layer로 가는 가중치)\n",
    "    dw2 = [[0 for col in range(hidden_size)]for row in range(hidden_size)] # 두번째 가중치 (hidden_layer1에서 hidden_layer2로 가는 가중치)\n",
    "    dw3 = [[0 for col in range(hidden_size)]for row in range(output_size)] # 세번째 가중치 (hidden_layer2에서 output_layer로 가는 가중치)\n",
    "\n",
    "    # 가중치 행번호: 순전파 일때 가중치가 도착하는 레이어 번호\n",
    "    # 가중치 열번호: 순전파 일때 가중치가 출발하는 레이어 번호\n",
    "    # w3 가중치 업데이트\n",
    "    for i in range(output_size):\n",
    "        for j in range(hidden_size):\n",
    "            de_relu = (output_layer[i]>0)*output_error[i]  # 행 번호가 가중치가 도착하는 레이어의 번호이기 때문에 행 번호를 사용한다\n",
    "            dw3[i][j] = learning_rate * de_relu * hidden_output2[j] # 열 번호\n",
    "            w3[i][j] = w3[i][j] + dw3[i][j]\n",
    "   \n",
    "    # w2 가중치 업데이트\n",
    "    for i in range(hidden_size):\n",
    "        for j in range(hidden_size):\n",
    "            de_relu = (hidden_layer2[i]>0)*hidden_error2[i] # 행 번호가 가중치가 도착하는 레이어의 번호이기 때문에 행 번호를 사용한다\n",
    "            dw2[i][j] = learning_rate * de_relu * hidden_output1[j]\n",
    "            w2[i][j] = w2[i][j] + dw2[i][j]\n",
    "            \n",
    "    # w1 가중치 업데이트\n",
    "    for i in range(hidden_size):\n",
    "        for j in range(input_size):\n",
    "            de_relu = (hidden_layer1[i]>0)*hidden_error1[i] # 행 번호가 가중치가 도착하는 레이어의 번호이기 때문에 행 번호를 사용한다\n",
    "            dw1[i][j] = learning_rate * de_relu * input_layer[j]\n",
    "            w1[i][j] = w1[i][j] + dw1[i][j]\n",
    "            \n",
    "    return "
   ]
  },
  {
   "cell_type": "markdown",
   "id": "c11c07e7",
   "metadata": {},
   "source": [
    "## 학습 함수"
   ]
  },
  {
   "cell_type": "code",
   "execution_count": 200,
   "id": "5f64cbda",
   "metadata": {},
   "outputs": [],
   "source": [
    "def practice():\n",
    "    for i in range(learning_cycle): # 학습 사이클 \n",
    "        print(str(i) + 'cycle') # cycle 수를 출력한다 \n",
    "        for j in range(output_size): # t~z 까지 \n",
    "            for k in range(data_set): # 데이터셋의 개수만큼 반복\n",
    "                # 이미지 가공 \n",
    "                img = img_processing(j, k, 0)\n",
    "                hidden_output1, hidden_output2, output_output = FP(img)\n",
    "                input_error, hidden_error1, hidden_error2, output_error = BP(output_output, j)\n",
    "                update(hidden_output1, hidden_output2, hidden_error1, hidden_error2, output_error)\n"
   ]
  },
  {
   "cell_type": "markdown",
   "id": "5fd8c7b5",
   "metadata": {},
   "source": [
    "## 추론 함수"
   ]
  },
  {
   "cell_type": "code",
   "execution_count": 201,
   "id": "5c593097",
   "metadata": {
    "scrolled": true
   },
   "outputs": [],
   "source": [
    "def inference():\n",
    "    for i in range(output_size): # t~z 까지\n",
    "        for j in range(test_set): # 데이터셋의 개수만큼 반복\n",
    "            img = img_processing(i, j, 1)\n",
    "            output_output = FP(img)\n",
    "            output = output_output.index(max(output_output)) # output_output에서 가장 큰값의 인덱스 번호 \n",
    "            print('파일명: '+chr(i+ord('t'))+str(j)+ ' 추론값: ' + chr(output+ord('t')))"
   ]
  },
  {
   "cell_type": "code",
   "execution_count": 202,
   "id": "e84e5e7e",
   "metadata": {},
   "outputs": [],
   "source": [
    "def main():\n",
    "    practice()\n",
    "    #inference()"
   ]
  },
  {
   "cell_type": "code",
   "execution_count": 203,
   "id": "8dfafe50",
   "metadata": {
    "scrolled": true
   },
   "outputs": [
    {
     "name": "stdout",
     "output_type": "stream",
     "text": [
      "0cycle\n"
     ]
    }
   ],
   "source": [
    "if __name__ == \"__main__\":\n",
    "    main()"
   ]
  },
  {
   "cell_type": "code",
   "execution_count": 204,
   "id": "f892f2a0",
   "metadata": {},
   "outputs": [
    {
     "name": "stdout",
     "output_type": "stream",
     "text": [
      "299\n"
     ]
    }
   ],
   "source": [
    "print(j)"
   ]
  },
  {
   "cell_type": "code",
   "execution_count": 206,
   "id": "3c173907",
   "metadata": {},
   "outputs": [
    {
     "data": {
      "text/plain": [
       "[-1759853935.228185,\n",
       " -1832887071.493226,\n",
       " -1796285406.3186483,\n",
       " -1838926412.671419,\n",
       " -1834831111.874755,\n",
       " -1861099707.021084,\n",
       " -1886831507.47401,\n",
       " -1901144333.6675966,\n",
       " -1808806652.8529325,\n",
       " -1797927849.4121346,\n",
       " -1903170578.783208,\n",
       " -1883479700.07763,\n",
       " -1884195603.0886314,\n",
       " -1914393921.251168,\n",
       " -1886237221.143505,\n",
       " -1861089294.4907317,\n",
       " -1882094995.2642765,\n",
       " -1876667832.659534,\n",
       " -1839421716.1834552,\n",
       " -1891316877.3754191,\n",
       " -1718078268.3705895,\n",
       " -1938439332.306066,\n",
       " -1796998203.1668844,\n",
       " -1824727179.4589884,\n",
       " -1721839642.020689,\n",
       " -1884109041.162937,\n",
       " -1861646993.459056,\n",
       " -1845663156.9652894,\n",
       " -1799763890.2130594,\n",
       " -1879361262.1440792,\n",
       " -1919285986.1765437,\n",
       " -1916571639.5417907,\n",
       " -1838417149.0406559,\n",
       " -1878638009.2991962,\n",
       " -1889934256.1552103,\n",
       " -1859751982.0845335,\n",
       " -1809555382.0441494,\n",
       " -1910694634.322243,\n",
       " -1826192125.2854111,\n",
       " -1865254875.7332916,\n",
       " -1850807985.5796652,\n",
       " -1846006567.334351,\n",
       " -2008090336.5429456,\n",
       " -1963300739.4776077,\n",
       " -1934953241.6852446,\n",
       " -1698814171.026201,\n",
       " -1750747548.703903,\n",
       " -1749801210.0330048,\n",
       " -1754394591.020195,\n",
       " -1828376091.3510983,\n",
       " -1850818580.005616,\n",
       " -1967960748.3423097,\n",
       " -1937657805.1765637,\n",
       " -1762811474.2782633,\n",
       " -1807957006.1098502,\n",
       " -1695556370.3244498,\n",
       " -1879567805.1517282,\n",
       " -1813884517.401753,\n",
       " -1906562516.5654404,\n",
       " -1806918107.8320131,\n",
       " -1912369783.029383,\n",
       " -1823563746.1272938,\n",
       " -1726318020.5100448,\n",
       " -1869843161.5951166,\n",
       " -1882563320.569353,\n",
       " -1810630848.172093,\n",
       " -1906908614.672063,\n",
       " -1942088240.031661,\n",
       " -1924320570.6443062,\n",
       " -1868593671.2923288,\n",
       " -1881396492.7896204,\n",
       " -1728174483.4917028,\n",
       " -1829038009.4368088,\n",
       " -1898770419.8885775,\n",
       " -1778787746.3255084,\n",
       " -1888949206.8247013,\n",
       " -1826311967.5047617,\n",
       " -1930946179.3540142,\n",
       " -1936570649.141239,\n",
       " -1852046533.1067786,\n",
       " -1817259761.7220566,\n",
       " -1784687718.95809,\n",
       " -1747902129.3887522,\n",
       " -1873731028.5369368,\n",
       " -1763931656.214394,\n",
       " -1889648538.7756135,\n",
       " -1845605000.625638,\n",
       " -1820046775.0443397,\n",
       " -1840293288.243596,\n",
       " -1970144103.0808113,\n",
       " -1882330721.7230737,\n",
       " -1835740484.1473513,\n",
       " -1846505820.7760086,\n",
       " -1844910276.8717556,\n",
       " -1737821715.7150223,\n",
       " -1882902071.3604507,\n",
       " -1834480288.4653544,\n",
       " -1853820531.931061,\n",
       " -1864844790.0398982,\n",
       " -1937476596.4820623,\n",
       " -1875286629.6837485,\n",
       " -1852491198.5042644,\n",
       " -1798548255.5521612,\n",
       " -1845381755.1623492,\n",
       " -1833180474.0946486,\n",
       " -1765076030.523287,\n",
       " -1960251664.0077262,\n",
       " -1837092742.8699417,\n",
       " -1882452787.119099,\n",
       " -1892444730.0638692,\n",
       " -1881218904.0718088,\n",
       " -1768672805.2157142,\n",
       " -1788232362.35714,\n",
       " -1894311096.6026027,\n",
       " -1927346656.9226732,\n",
       " -1767717614.2433622,\n",
       " -1788491953.5872464,\n",
       " -1862383108.1050377,\n",
       " -1672426677.3374412,\n",
       " -1911457735.8198068,\n",
       " -1755223613.1860025,\n",
       " -1865890923.0663657,\n",
       " -1816105990.7548425,\n",
       " -1915360094.6772962,\n",
       " -1770065612.076636,\n",
       " -1813355532.830627,\n",
       " -1846880766.296597,\n",
       " -1852478750.3002033,\n",
       " -1748126095.569471,\n",
       " -1915642971.9861374,\n",
       " -1841195688.5980709,\n",
       " -1790233195.215926,\n",
       " -1855640276.6688316,\n",
       " -1893066771.8761406,\n",
       " -1913475591.3706706,\n",
       " -1796469490.0394661,\n",
       " -1835825404.3702135,\n",
       " -1887977003.5782287,\n",
       " -1772612283.370389,\n",
       " -1821710491.5031445,\n",
       " -1887605833.3587644,\n",
       " -1886647797.741712,\n",
       " -1955987655.0808487,\n",
       " -1800117986.6704695,\n",
       " -1949302614.7680233,\n",
       " -1830866631.3639364,\n",
       " -1768509326.2373981,\n",
       " -1763814545.998059,\n",
       " -1848459525.0721707,\n",
       " -1882707975.9585466,\n",
       " -1924055859.6553905,\n",
       " -1812343667.55858,\n",
       " -1830646393.9216092,\n",
       " -1827502349.1095905,\n",
       " -1749946822.2124915,\n",
       " -1843275355.3240082,\n",
       " -1833144290.6135778,\n",
       " -1818660057.2804625,\n",
       " -1873684546.175516,\n",
       " -1776058714.500561,\n",
       " -1862017684.6008294,\n",
       " -1864458510.5561068,\n",
       " -1804549542.3986826,\n",
       " -1723669868.4526396,\n",
       " -1843886851.3219912,\n",
       " -1917756175.6101253,\n",
       " -1949451823.0913382,\n",
       " -1883779869.6498265,\n",
       " -1783414715.9469461,\n",
       " -1862296452.859745,\n",
       " -1824641694.0571651,\n",
       " -1807191555.4953132,\n",
       " -1780267237.2423003,\n",
       " -1748888962.1651652,\n",
       " -1825738788.801816,\n",
       " -1923204134.001244,\n",
       " -1750899823.6727605,\n",
       " -1859572883.706346,\n",
       " -1916611352.368367,\n",
       " -1818565979.3687673,\n",
       " -1815802954.9032829,\n",
       " -1861520470.9996786,\n",
       " -1872724644.8043118,\n",
       " -1828280307.9604354,\n",
       " -1836870039.2030842,\n",
       " -1812134845.064989,\n",
       " -1942017414.315774,\n",
       " -1795258221.7529895,\n",
       " -1796076384.3660102,\n",
       " -1775441191.2319148,\n",
       " -1910851198.626419,\n",
       " -1718204221.6849976,\n",
       " -1856859703.876068,\n",
       " -1800275927.9551206,\n",
       " -1750965742.5897593,\n",
       " -1978340237.4773202,\n",
       " -1775487349.9211438,\n",
       " -1883027754.4695005,\n",
       " -1804945608.435865,\n",
       " -1974381886.2243094,\n",
       " -1804807692.0917137,\n",
       " -1886480603.0559433,\n",
       " -1898127063.4547126,\n",
       " -1793152552.6892054,\n",
       " -1780587799.930731,\n",
       " -1834284337.1224792,\n",
       " -1814343822.9600234,\n",
       " -1764717687.5258539,\n",
       " -1771447676.7652712,\n",
       " -1839378908.2272296,\n",
       " -1889291976.3776684,\n",
       " -1753441353.163476,\n",
       " -1747131905.1884878,\n",
       " -1842602677.7185268,\n",
       " -1899419788.2466853,\n",
       " -1793623885.5102816,\n",
       " -1832766428.048178,\n",
       " -1840069637.0667593,\n",
       " -1845450766.4656436,\n",
       " -1861045557.1356926,\n",
       " -1738841188.9780173,\n",
       " -1923980933.6234765,\n",
       " -1763284170.4623976,\n",
       " -1798773806.781216,\n",
       " -1818969289.4544942,\n",
       " -1937880987.9233198,\n",
       " -2070003181.317755,\n",
       " -1857919227.6988595,\n",
       " -1785230718.42775,\n",
       " -1928957752.3272996,\n",
       " -1859448547.3189042,\n",
       " -1726497331.3607695,\n",
       " -1954383624.5061781,\n",
       " -1927754256.3537724,\n",
       " -1787462755.8788545,\n",
       " -1825310879.8068554,\n",
       " -1852080859.9013882,\n",
       " -1849035531.681276,\n",
       " -1846361200.3300822,\n",
       " -1872778276.144629,\n",
       " -1828601587.4699137,\n",
       " -1703020566.0769491,\n",
       " -1822670377.4465697,\n",
       " -1979660025.0177972,\n",
       " -1862359246.137663,\n",
       " -1845271073.443704,\n",
       " -1825425981.9423265,\n",
       " -1895970720.7293274,\n",
       " -1857031891.7665105,\n",
       " -1840043151.5261805,\n",
       " -1806581815.0298462,\n",
       " -1811920275.3350093,\n",
       " -1904650372.254915,\n",
       " -1827667511.9026291,\n",
       " -1847172780.155472,\n",
       " -1862211957.974691,\n",
       " -1791285698.3185964,\n",
       " -1816105186.0547123,\n",
       " -1862637481.713386,\n",
       " -1774602465.5673647,\n",
       " -1830087439.0632246,\n",
       " -1940204200.7731743,\n",
       " -1829697697.617262,\n",
       " -1803829788.494542,\n",
       " -1875833244.9844196,\n",
       " -1807502635.2328658,\n",
       " -1887624845.1436949,\n",
       " -1928128561.1874206,\n",
       " -1892522672.7828774,\n",
       " -1908424157.1372838,\n",
       " -1810123420.9895046,\n",
       " -1860388214.5229337,\n",
       " -1866696566.8782706,\n",
       " -1804210670.2144685,\n",
       " -1803483322.14558,\n",
       " -1798045674.6094403,\n",
       " -1790010829.1463304,\n",
       " -1820870056.4764323,\n",
       " -1834382396.3268046,\n",
       " -1869947697.5677607,\n",
       " -1899374599.113347,\n",
       " -1869800418.8898168,\n",
       " -1871169246.8925552,\n",
       " -1778669773.2242413,\n",
       " -1863736088.8387463,\n",
       " -1818436485.0774207,\n",
       " -1929366033.551541,\n",
       " -1975186501.7287295,\n",
       " -1927111855.3639958,\n",
       " -1818768253.5020988,\n",
       " -1887965078.836525,\n",
       " -1783949398.0367353,\n",
       " -1792148498.2310696,\n",
       " -1855071770.3057988,\n",
       " -1839404641.5942948,\n",
       " -1960100051.3093476,\n",
       " -1862288667.019207,\n",
       " -1875211952.0010433,\n",
       " -1944371288.365972,\n",
       " -1885909360.3096762]"
      ]
     },
     "execution_count": 206,
     "metadata": {},
     "output_type": "execute_result"
    }
   ],
   "source": [
    "hidden_layer1"
   ]
  },
  {
   "cell_type": "code",
   "execution_count": null,
   "id": "55cec59c",
   "metadata": {},
   "outputs": [],
   "source": []
  }
 ],
 "metadata": {
  "kernelspec": {
   "display_name": "Python 3 (ipykernel)",
   "language": "python",
   "name": "python3"
  },
  "language_info": {
   "codemirror_mode": {
    "name": "ipython",
    "version": 3
   },
   "file_extension": ".py",
   "mimetype": "text/x-python",
   "name": "python",
   "nbconvert_exporter": "python",
   "pygments_lexer": "ipython3",
   "version": "3.9.6"
  }
 },
 "nbformat": 4,
 "nbformat_minor": 5
}
