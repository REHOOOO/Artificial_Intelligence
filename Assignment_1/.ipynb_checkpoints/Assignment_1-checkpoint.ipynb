{
 "cells": [
  {
   "cell_type": "markdown",
   "id": "eca6e264",
   "metadata": {},
   "source": [
    "# 역전파 학습 알고리즘의 구현과 실험"
   ]
  },
  {
   "cell_type": "markdown",
   "id": "aad73728",
   "metadata": {},
   "source": [
    "## 설치"
   ]
  },
  {
   "cell_type": "code",
   "execution_count": null,
   "id": "68ef2170",
   "metadata": {},
   "outputs": [],
   "source": [
    "!pip install pillow # png 파일을 불러오기 위해 사용"
   ]
  },
  {
   "cell_type": "markdown",
   "id": "75312071",
   "metadata": {},
   "source": [
    "## import"
   ]
  },
  {
   "cell_type": "code",
   "execution_count": 29,
   "id": "fae6b85b",
   "metadata": {},
   "outputs": [],
   "source": [
    "import random\n",
    "import math\n",
    "from PIL import Image"
   ]
  },
  {
   "cell_type": "markdown",
   "id": "94be9b84",
   "metadata": {},
   "source": [
    "## 파라미터"
   ]
  },
  {
   "cell_type": "code",
   "execution_count": 30,
   "id": "264c7db3",
   "metadata": {},
   "outputs": [],
   "source": [
    "input_size=16*16 # 16 x 16 픽셀\n",
    "output_size = 7 # t, u, v, w, x, y, z 7개 \n",
    "hidden_size = 1000 # 히든 레이어 크기\n",
    "learning_cycle = 10 # 학습 사이클 횟수 \n",
    "data_set = 10 # 데이터 셋의 개수\n",
    "test_set = 20 # 추론시 사용하는 데이터 셋의 개수\n",
    "learning_rate = 0.0000000000001 # 학습률"
   ]
  },
  {
   "cell_type": "markdown",
   "id": "7637b468",
   "metadata": {},
   "source": [
    "## 신경망 구현  \n",
    "input_layer: 16 x 16 = 256개  \n",
    "hidden_layer1: 1000개  \n",
    "hidden_layer2: 1000개  \n",
    "hidden_layer3: 1000개\n",
    "output_layer: 7개  "
   ]
  },
  {
   "cell_type": "code",
   "execution_count": 31,
   "id": "80668d0e",
   "metadata": {},
   "outputs": [],
   "source": [
    "input_layer = [0]*input_size # input_layer를 만들어준다 \n",
    "output_layer = [0]*output_size # output_layer를 만들어준다 \n",
    "hidden_layer1 = [0]*hidden_size #hidden_layer1을 만들어준다\n",
    "hidden_layer2 = [0]*hidden_size #hidden_layer2를 만들어준다\n",
    "hidden_layer3 = [0]*hidden_size #hidden_layer3을 만들어준다\n",
    "\n",
    "\n",
    "w1 = [[0 for col in range(input_size)]for row in range(hidden_size)] # 첫번째 가중치 (input_layer에서 hidden_layer1으로 가는 가중치)\n",
    "w2 = [[0 for col in range(hidden_size)]for row in range(hidden_size)] # 두번째 가중치 (hidden_layer1에서 hidden_layer2로 가는 가중치)\n",
    "w3 = [[0 for col in range(hidden_size)]for row in range(hidden_size)] # 세번째 가중치 (hidden_layer2에서 hidden_layer3으로 가는 가중치)\n",
    "w4 = [[0 for col in range(hidden_size)]for row in range(output_size)] # 세번째 가중치 (hidden_layer3에서 output_layer로 가는 가중치)"
   ]
  },
  {
   "cell_type": "markdown",
   "id": "06120f26",
   "metadata": {},
   "source": [
    "## 가중치 초기화 "
   ]
  },
  {
   "cell_type": "code",
   "execution_count": 32,
   "id": "bb84801e",
   "metadata": {},
   "outputs": [],
   "source": [
    "# w1 초기화\n",
    "for i in range(hidden_size): # 행의 개수만큼 for문을 돌려준다 \n",
    "    for j in range(input_size): # 열의 개수만큼 for문을 돌려준다 \n",
    "        w1[i][j]=float(round(random.random(),4)) # i행 j열의 값을 0이상 1미만의 랜덤값으로 만들어준다 소수점 4자리까지 표시(반올림해준다)\n",
    "\n",
    "# w2 초기화\n",
    "for i in range(hidden_size): # 행의 개수만큼 for문을 돌려준다 \n",
    "    for j in range(hidden_size): # 열의 개수만큼 for문을 돌려준다 \n",
    "        w2[i][j]=float(round(random.random(),4)) # i행 j열의 값을 0이상 1미만의 랜덤값으로 만들어준다 소수점 4자리까지 표시(반올림해준다)\n",
    "\n",
    "# w3 초기화\n",
    "for i in range(hidden_size): # 행의 개수만큼 for문을 돌려준다 \n",
    "    for j in range(hidden_size): # 열의 개수만큼 for문을 돌려준다 \n",
    "        w3[i][j]=float(round(random.random(),4)) # i행 j열의 값을 0이상 1미만의 랜덤값으로 만들어준다 소수점 4자리까지 표시(반올림해준다)\n",
    "        \n",
    "# w4 초기화\n",
    "for i in range(output_size): # 행의 개수만큼 for문을 돌려준다 \n",
    "    for j in range(hidden_size): # 열의 개수만큼 for문을 돌려준다 \n",
    "        w3[i][j]=float(round(random.random(),4)) # i행 j열의 값을 0이상 1미만의 랜덤값으로 만들어준다 소수점 4자리까지 표시(반올림해준다)\n"
   ]
  },
  {
   "cell_type": "markdown",
   "id": "61cd7259",
   "metadata": {},
   "source": [
    "## 행렬곱 함수"
   ]
  },
  {
   "cell_type": "code",
   "execution_count": 33,
   "id": "9096f53b",
   "metadata": {},
   "outputs": [],
   "source": [
    "def matrixmult(A, B): \n",
    "    row_A = len(A)\n",
    "    col_A = len(A[0])\n",
    "    row_B = len(B) # B는 input 값이기 떄문에 항상 열 개수가 1이다\n",
    "    \n",
    "    if col_A != row_B:\n",
    "        raise ValueError(\"행렬 곱셈이 불가능합니다\")\n",
    "    \n",
    "    C=[0]*row_A # C의 크기는 A의 행 수 x B의 열 수 인데 B의 열 수는 1이라 제외 \n",
    "    for i in range(row_A):\n",
    "            for k in range(col_A):\n",
    "                C[i] += A[i][k]*B[k] # 행렬곱 c[i][j] += A[i][k]*B[k][j](j는 B의 열 번호) 이지만 여기서는 B의 열 개수가 항상 1이므로 제외\n",
    "    return C"
   ]
  },
  {
   "cell_type": "markdown",
   "id": "ddae7d77",
   "metadata": {},
   "source": [
    "## 전치 함수"
   ]
  },
  {
   "cell_type": "code",
   "execution_count": 34,
   "id": "4d79e814",
   "metadata": {},
   "outputs": [],
   "source": [
    "def transeposed(a):\n",
    "    t = list(zip(*a))\n",
    "    return t"
   ]
  },
  {
   "cell_type": "markdown",
   "id": "8cb4b6cb",
   "metadata": {},
   "source": [
    "## 이미지 함수"
   ]
  },
  {
   "cell_type": "code",
   "execution_count": 35,
   "id": "1f91668d",
   "metadata": {},
   "outputs": [],
   "source": [
    "def img_processing(alphabet,num,check): # 마지막 입력이 0이면 학습 1이면 추론으로 본다\n",
    "    if(check==0):\n",
    "        img_path = str('./image/learning/'+(chr(alphabet+ord('t')))+str(num+1)+'.png') # check가 0이면 learning 폴더에서 이미지 파일 선택\n",
    "    else:\n",
    "        img_path = str('./image/input/'+(chr(alphabet+ord('t')))+str(num+1)+'.png') # check가 1이면 input 폴더에서 이미지 파일 선택\n",
    "    img = Image.open(img_path) # 이미지를 불러온다\n",
    "    img = img.convert(\"L\") # 이미지를 흑백으로 바꾼다 (0~255의 값을 가진다)\n",
    "    img = list(img.getdata()) # 이미지 데이터를 list 형태로 바꾸어준다 \n",
    "    \n",
    "    for i in range(len(img)): # img가 0~1사이의 값을 가질 수 있도록 정규화 해준다 \n",
    "        img[i] = img[i]/255 \n",
    "    \n",
    "    return img"
   ]
  },
  {
   "cell_type": "markdown",
   "id": "d8b2b540",
   "metadata": {},
   "source": [
    "## 순전파 함수"
   ]
  },
  {
   "cell_type": "code",
   "execution_count": 36,
   "id": "4eae0315",
   "metadata": {},
   "outputs": [],
   "source": [
    "def FP(img): \n",
    "    #### input_layer ####\n",
    "    for i in range(input_size):\n",
    "        input_layer[i] = float(img[i]) # input_layer에 이미지를 넣어준다\n",
    "    \n",
    "    #### hidden_layer1 ####\n",
    "    hidden_input1 = matrixmult(w1, input_layer) # 행렬곱을 해준다 (가중치 계산 input_layer -> hidden_layer1)\n",
    "            \n",
    "    for i in range(hidden_size):\n",
    "        hidden_layer1[i] = hidden_input1[i] # hidden_layer1에 행렬곱한 결과를 넣어준다 \n",
    "            \n",
    "    hidden_output1 = [0]*hidden_size # hidden_layer1의 output을 초기화 해준다 \n",
    "    for i in range(hidden_size): \n",
    "        hidden_output1[i] = max(0,hidden_layer1[i]) # ReLU연산을 해준다음 hidden_output1에 저장해준다 \n",
    "    \n",
    "    #### hidden_layer2 ####\n",
    "    hidden_input2 = matrixmult(w2, hidden_output1) # 행렬곱을 해준다 (가중치 계산 hidden_layer1 -> hidden_layer2)\n",
    "    \n",
    "    for i in range(hidden_size):\n",
    "        hidden_layer2[i]=hidden_input2[i] # hidden_layer2에 행렬곱한 결과를 넣어준다 \n",
    "        \n",
    "    hidden_output2 = [0]*hidden_size # hidden_layer2의 output을 초기화 해준다 \n",
    "    for i in range(hidden_size):\n",
    "        hidden_output2[i]=max(0,hidden_layer2[i]) # ReLU연산을 해준다음 hidden_output2에 저장해준다 \n",
    "        \n",
    "    #### hidden_layer3 ####\n",
    "    hidden_input3 = matrixmult(w3, hidden_output2) # 행렬곱을 해준다 (가중치 계산 hidden_layer2 -> hidden_layer3)\n",
    "    \n",
    "    for i in range(hidden_size):\n",
    "        hidden_layer3[i]=hidden_input3[i] # hidden_layer3에 행렬곱한 결과를 넣어준다 \n",
    "        \n",
    "    hidden_output3 = [0]*hidden_size # hidden_layer2의 output을 초기화 해준다 \n",
    "    for i in range(hidden_size):\n",
    "        hidden_output3[i]=max(0,hidden_layer3[i]) # ReLU연산을 해준다음 hidden_output2에 저장해준다 \n",
    "    \n",
    "    #### output_layer ####\n",
    "    output_input = matrixmult(w4, hidden_output3) # 행렬곱을 해준다 (가중치 계산 hidden_layer3 -> output_layer)\n",
    "    \n",
    "    for i in range(output_size):\n",
    "        output_layer[i]=output_input[i] # output_layer에 행렬곱한 결과를 넣어준다 \n",
    "        \n",
    "    output_output = [0]*output_size # output_layer의 output을 초기화 해준다\n",
    "    for i in range(output_size):\n",
    "        output_output[i]=max(0,output_layer[i])\n",
    "        \n",
    "    return hidden_output1, hidden_output2, hidden_output3, output_output\n",
    "    \n",
    "    \n",
    "    "
   ]
  },
  {
   "cell_type": "markdown",
   "id": "db4b3a78",
   "metadata": {},
   "source": [
    "## 오차 역전파 함수"
   ]
  },
  {
   "cell_type": "code",
   "execution_count": 37,
   "id": "04026048",
   "metadata": {},
   "outputs": [],
   "source": [
    "def BP(output, target):\n",
    "    \n",
    "    output_error=[0]*output_size\n",
    "    for i in range(output_size):\n",
    "        if i == target: # 만약 x가 target과 같다면 목표값을 1로 설정해준다\n",
    "            output_error[i] = float(1 - output[i]) # 오차 = 목표값 - 결과값 \n",
    "        else:    # target과 다르다면 목표값을 0으로 설정해준다 \n",
    "            output_error[i] = float(0 - output[i]) # 오차 = 목표값 - 결과값\n",
    "            \n",
    "    hidden_error3 = matrixmult(transeposed(w4), output_error) # 가중치 행렬을 전치하게되면 역전파 행렬이 된다 \n",
    "    hidden_error2 = matrixmult(transeposed(w3), hidden_error3)\n",
    "    hidden_error1 = matrixmult(transeposed(w2), hidden_error2)\n",
    "    input_error = matrixmult(transeposed(w1), hidden_error1)\n",
    "    \n",
    "    return input_error, hidden_error1, hidden_error2, hidden_error3, output_error\n",
    "    "
   ]
  },
  {
   "cell_type": "markdown",
   "id": "cb750323",
   "metadata": {},
   "source": [
    "## 가중치 업데이트"
   ]
  },
  {
   "cell_type": "code",
   "execution_count": 38,
   "id": "f9cd1281",
   "metadata": {},
   "outputs": [],
   "source": [
    "def update(hidden_output1, hidden_output2, hidden_output3, hidden_error1, hidden_error2, hidden_error3, output_error):\n",
    "    # 가중치 업데이트값 초기화\n",
    "    dw1 = [[0 for col in range(input_size)]for row in range(hidden_size)] # 첫번째 가중치 (input_layer에서 hidden_layer로 가는 가중치)\n",
    "    dw2 = [[0 for col in range(hidden_size)]for row in range(hidden_size)] # 두번째 가중치 (hidden_layer1에서 hidden_layer2로 가는 가중치)\n",
    "    dw3 = [[0 for col in range(hidden_size)]for row in range(hidden_size)] # 두번째 가중치 (hidden_layer2에서 hidden_layer3으로 가는 가중치)\n",
    "    dw4 = [[0 for col in range(hidden_size)]for row in range(output_size)] # 세번째 가중치 (hidden_layer3에서 output_layer로 가는 가중치)\n",
    "\n",
    "    # 가중치 행번호: 순전파 일때 가중치가 도착하는 레이어 번호\n",
    "    # 가중치 열번호: 순전파 일때 가중치가 출발하는 레이어 번호\n",
    "    \n",
    "    # w4 가중치 업데이트\n",
    "    for i in range(output_size):\n",
    "        for j in range(hidden_size):\n",
    "            de_relu = (output_layer[i]>0)*output_error[i]  # 행 번호가 가중치가 도착하는 레이어의 번호이기 때문에 행 번호를 사용한다\n",
    "            dw4[i][j] = learning_rate * de_relu * hidden_output3[j] # 열 번호\n",
    "            w4[i][j] = w4[i][j] + dw4[i][j]\n",
    "   \n",
    "    # w3 가중치 업데이트\n",
    "    for i in range(hidden_size):\n",
    "        for j in range(hidden_size):\n",
    "            de_relu = (hidden_layer3[i]>0)*hidden_error3[i] # 행 번호가 가중치가 도착하는 레이어의 번호이기 때문에 행 번호를 사용한다\n",
    "            dw3[i][j] = learning_rate * de_relu * hidden_output2[j]\n",
    "            w3[i][j] = w3[i][j] + dw3[i][j]\n",
    "            \n",
    "    # w2 가중치 업데이트\n",
    "    for i in range(hidden_size):\n",
    "        for j in range(hidden_size):\n",
    "            de_relu = (hidden_layer2[i]>0)*hidden_error2[i] # 행 번호가 가중치가 도착하는 레이어의 번호이기 때문에 행 번호를 사용한다\n",
    "            dw2[i][j] = learning_rate * de_relu * hidden_output1[j]\n",
    "            w2[i][j] = w2[i][j] + dw2[i][j]\n",
    "            \n",
    "    # w1 가중치 업데이트\n",
    "    for i in range(hidden_size):\n",
    "        for j in range(input_size):\n",
    "            de_relu = (hidden_layer1[i]>0)*hidden_error1[i] # 행 번호가 가중치가 도착하는 레이어의 번호이기 때문에 행 번호를 사용한다\n",
    "            dw1[i][j] = learning_rate * de_relu * input_layer[j]\n",
    "            w1[i][j] = w1[i][j] + dw1[i][j]\n",
    "            \n",
    "    return "
   ]
  },
  {
   "cell_type": "markdown",
   "id": "c11c07e7",
   "metadata": {},
   "source": [
    "## 학습 함수"
   ]
  },
  {
   "cell_type": "code",
   "execution_count": 39,
   "id": "5f64cbda",
   "metadata": {},
   "outputs": [],
   "source": [
    "def practice():\n",
    "    for i in range(learning_cycle): # 학습 사이클 \n",
    "        print(str(i) + 'cycle') # cycle 수를 출력한다 \n",
    "        for j in range(output_size): # t~z 까지 \n",
    "            for k in range(data_set): # 데이터셋의 개수만큼 반복\n",
    "                # 이미지 가공 \n",
    "                img = img_processing(j, k, 0)\n",
    "                hidden_output1, hidden_output2, hidden_output3, output_output = FP(img)\n",
    "                input_error, hidden_error1, hidden_error2, hidden_error3, output_error = BP(output_output, j)\n",
    "                update(hidden_output1, hidden_output2, hidden_output3, hidden_error1, hidden_error2, hidden_error3, output_error)\n"
   ]
  },
  {
   "cell_type": "markdown",
   "id": "5fd8c7b5",
   "metadata": {},
   "source": [
    "## 추론 함수"
   ]
  },
  {
   "cell_type": "code",
   "execution_count": 40,
   "id": "5c593097",
   "metadata": {
    "scrolled": true
   },
   "outputs": [],
   "source": [
    "def inference():\n",
    "    for i in range(output_size): # t~z 까지\n",
    "        for j in range(test_set): # 데이터셋의 개수만큼 반복\n",
    "            img = img_processing(i, j, 1)\n",
    "            output_output = FP(img)\n",
    "            output = output_output.index(max(output_output)) # output_output에서 가장 큰값의 인덱스 번호 \n",
    "            print('파일명: '+chr(i+ord('t'))+str(j+1)+ ' 추론값: ' + chr(output+ord('t')))"
   ]
  },
  {
   "cell_type": "code",
   "execution_count": 41,
   "id": "e84e5e7e",
   "metadata": {},
   "outputs": [],
   "source": [
    "def main():\n",
    "    practice()\n",
    "    inference()"
   ]
  },
  {
   "cell_type": "code",
   "execution_count": 42,
   "id": "8dfafe50",
   "metadata": {
    "scrolled": true
   },
   "outputs": [
    {
     "name": "stdout",
     "output_type": "stream",
     "text": [
      "0cycle\n",
      "1cycle\n",
      "2cycle\n",
      "3cycle\n",
      "4cycle\n",
      "5cycle\n",
      "6cycle\n",
      "7cycle\n",
      "8cycle\n",
      "9cycle\n",
      "파일명: t0 추론값: v\n",
      "파일명: t1 추론값: v\n",
      "파일명: t2 추론값: v\n",
      "파일명: t3 추론값: v\n",
      "파일명: t4 추론값: v\n",
      "파일명: t5 추론값: v\n",
      "파일명: t6 추론값: v\n",
      "파일명: t7 추론값: v\n",
      "파일명: t8 추론값: v\n",
      "파일명: t9 추론값: v\n",
      "파일명: t10 추론값: v\n",
      "파일명: t11 추론값: v\n",
      "파일명: t12 추론값: v\n",
      "파일명: t13 추론값: v\n",
      "파일명: t14 추론값: v\n",
      "파일명: t15 추론값: v\n",
      "파일명: t16 추론값: v\n",
      "파일명: t17 추론값: v\n",
      "파일명: t18 추론값: v\n",
      "파일명: t19 추론값: v\n",
      "파일명: u0 추론값: v\n",
      "파일명: u1 추론값: v\n",
      "파일명: u2 추론값: v\n",
      "파일명: u3 추론값: v\n",
      "파일명: u4 추론값: v\n",
      "파일명: u5 추론값: v\n",
      "파일명: u6 추론값: v\n",
      "파일명: u7 추론값: v\n",
      "파일명: u8 추론값: v\n",
      "파일명: u9 추론값: v\n",
      "파일명: u10 추론값: v\n",
      "파일명: u11 추론값: v\n",
      "파일명: u12 추론값: v\n",
      "파일명: u13 추론값: v\n",
      "파일명: u14 추론값: v\n",
      "파일명: u15 추론값: v\n",
      "파일명: u16 추론값: v\n",
      "파일명: u17 추론값: v\n",
      "파일명: u18 추론값: v\n",
      "파일명: u19 추론값: v\n",
      "파일명: v0 추론값: v\n",
      "파일명: v1 추론값: v\n",
      "파일명: v2 추론값: v\n",
      "파일명: v3 추론값: v\n",
      "파일명: v4 추론값: v\n",
      "파일명: v5 추론값: v\n",
      "파일명: v6 추론값: v\n",
      "파일명: v7 추론값: v\n",
      "파일명: v8 추론값: v\n",
      "파일명: v9 추론값: v\n",
      "파일명: v10 추론값: v\n",
      "파일명: v11 추론값: v\n",
      "파일명: v12 추론값: v\n",
      "파일명: v13 추론값: v\n",
      "파일명: v14 추론값: v\n",
      "파일명: v15 추론값: v\n",
      "파일명: v16 추론값: v\n",
      "파일명: v17 추론값: v\n",
      "파일명: v18 추론값: v\n",
      "파일명: v19 추론값: v\n",
      "파일명: w0 추론값: v\n",
      "파일명: w1 추론값: v\n",
      "파일명: w2 추론값: v\n",
      "파일명: w3 추론값: v\n",
      "파일명: w4 추론값: v\n",
      "파일명: w5 추론값: v\n",
      "파일명: w6 추론값: v\n",
      "파일명: w7 추론값: v\n",
      "파일명: w8 추론값: v\n",
      "파일명: w9 추론값: v\n",
      "파일명: w10 추론값: v\n",
      "파일명: w11 추론값: v\n",
      "파일명: w12 추론값: v\n",
      "파일명: w13 추론값: v\n",
      "파일명: w14 추론값: v\n",
      "파일명: w15 추론값: v\n",
      "파일명: w16 추론값: v\n",
      "파일명: w17 추론값: v\n",
      "파일명: w18 추론값: v\n",
      "파일명: w19 추론값: v\n",
      "파일명: x0 추론값: v\n",
      "파일명: x1 추론값: v\n",
      "파일명: x2 추론값: v\n",
      "파일명: x3 추론값: v\n",
      "파일명: x4 추론값: v\n",
      "파일명: x5 추론값: v\n",
      "파일명: x6 추론값: v\n",
      "파일명: x7 추론값: v\n",
      "파일명: x8 추론값: v\n",
      "파일명: x9 추론값: v\n",
      "파일명: x10 추론값: v\n",
      "파일명: x11 추론값: v\n",
      "파일명: x12 추론값: v\n",
      "파일명: x13 추론값: v\n",
      "파일명: x14 추론값: v\n",
      "파일명: x15 추론값: v\n",
      "파일명: x16 추론값: v\n",
      "파일명: x17 추론값: v\n",
      "파일명: x18 추론값: v\n",
      "파일명: x19 추론값: v\n",
      "파일명: y0 추론값: v\n",
      "파일명: y1 추론값: v\n",
      "파일명: y2 추론값: v\n",
      "파일명: y3 추론값: v\n",
      "파일명: y4 추론값: v\n",
      "파일명: y5 추론값: v\n",
      "파일명: y6 추론값: v\n",
      "파일명: y7 추론값: v\n",
      "파일명: y8 추론값: v\n",
      "파일명: y9 추론값: v\n",
      "파일명: y10 추론값: v\n",
      "파일명: y11 추론값: v\n",
      "파일명: y12 추론값: v\n",
      "파일명: y13 추론값: v\n",
      "파일명: y14 추론값: v\n",
      "파일명: y15 추론값: v\n",
      "파일명: y16 추론값: v\n",
      "파일명: y17 추론값: v\n",
      "파일명: y18 추론값: v\n",
      "파일명: y19 추론값: v\n",
      "파일명: z0 추론값: v\n",
      "파일명: z1 추론값: v\n",
      "파일명: z2 추론값: v\n",
      "파일명: z3 추론값: v\n",
      "파일명: z4 추론값: v\n",
      "파일명: z5 추론값: v\n",
      "파일명: z6 추론값: v\n",
      "파일명: z7 추론값: v\n",
      "파일명: z8 추론값: v\n",
      "파일명: z9 추론값: v\n",
      "파일명: z10 추론값: v\n",
      "파일명: z11 추론값: v\n",
      "파일명: z12 추론값: v\n",
      "파일명: z13 추론값: v\n",
      "파일명: z14 추론값: v\n",
      "파일명: z15 추론값: v\n",
      "파일명: z16 추론값: v\n",
      "파일명: z17 추론값: v\n",
      "파일명: z18 추론값: v\n",
      "파일명: z19 추론값: v\n"
     ]
    }
   ],
   "source": [
    "if __name__ == \"__main__\":\n",
    "    main()"
   ]
  },
  {
   "cell_type": "code",
   "execution_count": null,
   "id": "f892f2a0",
   "metadata": {},
   "outputs": [],
   "source": [
    "print(j)"
   ]
  },
  {
   "cell_type": "code",
   "execution_count": 97,
   "id": "3c173907",
   "metadata": {},
   "outputs": [
    {
     "ename": "NameError",
     "evalue": "name 'output_output' is not defined",
     "output_type": "error",
     "traceback": [
      "\u001b[1;31m---------------------------------------------------------------------------\u001b[0m",
      "\u001b[1;31mNameError\u001b[0m                                 Traceback (most recent call last)",
      "Cell \u001b[1;32mIn[97], line 1\u001b[0m\n\u001b[1;32m----> 1\u001b[0m \u001b[43moutput_output\u001b[49m\n",
      "\u001b[1;31mNameError\u001b[0m: name 'output_output' is not defined"
     ]
    }
   ],
   "source": [
    "output_output"
   ]
  },
  {
   "cell_type": "code",
   "execution_count": 29,
   "id": "55cec59c",
   "metadata": {},
   "outputs": [],
   "source": [
    "import csv\n",
    "for i in range(output_size):\n",
    "    for j in range(test_set):\n",
    "        img_path = str('./image/input/'+(chr(i+ord('t')))+str(j+1)+'.png') \n",
    "        img = Image.open(img_path) # 이미지를 불러온다\n",
    "        img = img.convert(\"L\") # 이미지를 흑백으로 바꾼다 (0~255의 값을 가진다)\n",
    "        img = list(img.getdata()) # 이미지 데이터를 list 형태로 바꾸어준다 \n",
    "            \n",
    "        for k in range(len(img)): # img가 0~1사이의 값을 가질 수 있도록 정규화 해준다 \n",
    "            img[k] = img[k]/255 \n",
    "            \n",
    "        write_path=str('./image/input/'+(chr(i+ord('t')))+str(j+1)+'.csv')\n",
    "        f=open(write_path,'w',newline='')\n",
    "        wr=csv.writer(f)\n",
    "        wr.writerow(img)\n",
    "        f.close()"
   ]
  },
  {
   "cell_type": "code",
   "execution_count": 21,
   "id": "c4638c73-ce17-4803-b636-371fa84c9a92",
   "metadata": {},
   "outputs": [
    {
     "name": "stdout",
     "output_type": "stream",
     "text": [
      "255\n",
      "t\n"
     ]
    }
   ],
   "source": []
  },
  {
   "cell_type": "code",
   "execution_count": 25,
   "id": "27ffc911-ef68-4b63-998b-fc6ae60a16a0",
   "metadata": {},
   "outputs": [
    {
     "name": "stdout",
     "output_type": "stream",
     "text": [
      "t\n",
      "u\n",
      "v\n",
      "w\n",
      "x\n",
      "y\n",
      "z\n"
     ]
    }
   ],
   "source": []
  },
  {
   "cell_type": "code",
   "execution_count": null,
   "id": "649f623d-8464-45c8-8bec-91e70cdaa8e4",
   "metadata": {},
   "outputs": [],
   "source": []
  }
 ],
 "metadata": {
  "kernelspec": {
   "display_name": "Python 3 (ipykernel)",
   "language": "python",
   "name": "python3"
  },
  "language_info": {
   "codemirror_mode": {
    "name": "ipython",
    "version": 3
   },
   "file_extension": ".py",
   "mimetype": "text/x-python",
   "name": "python",
   "nbconvert_exporter": "python",
   "pygments_lexer": "ipython3",
   "version": "3.10.9"
  }
 },
 "nbformat": 4,
 "nbformat_minor": 5
}
