{
 "cells": [
  {
   "cell_type": "markdown",
   "id": "eca6e264",
   "metadata": {},
   "source": [
    "# 역전파 학습 알고리즘의 구현과 실험"
   ]
  },
  {
   "cell_type": "markdown",
   "id": "aad73728",
   "metadata": {},
   "source": [
    "## 설치"
   ]
  },
  {
   "cell_type": "code",
   "execution_count": null,
   "id": "68ef2170",
   "metadata": {},
   "outputs": [],
   "source": [
    "!pip install pillow # png 파일을 불러오기 위해 사용"
   ]
  },
  {
   "cell_type": "markdown",
   "id": "75312071",
   "metadata": {},
   "source": [
    "## import"
   ]
  },
  {
   "cell_type": "code",
   "execution_count": 30,
   "id": "fae6b85b",
   "metadata": {},
   "outputs": [],
   "source": [
    "import random\n",
    "import math\n",
    "from PIL import Image"
   ]
  },
  {
   "cell_type": "markdown",
   "id": "94be9b84",
   "metadata": {},
   "source": [
    "## 파라미터"
   ]
  },
  {
   "cell_type": "code",
   "execution_count": 31,
   "id": "264c7db3",
   "metadata": {},
   "outputs": [],
   "source": [
    "input_size=16*16 # 16 x 16 픽셀\n",
    "output_size = 7 # t, u, v, w, x, y, z 7개 \n",
    "hidden_size = 1000\n",
    "learning_cycle = 100 # 학습 사이클 횟수 \n",
    "data_set = 10 # 데이터 셋의 개수"
   ]
  },
  {
   "cell_type": "markdown",
   "id": "7637b468",
   "metadata": {},
   "source": [
    "## 신경망 구현  \n",
    "input_layer: 16 x 16 = 256개  \n",
    "hidden_layer1: 1000개  \n",
    "hidden_layer2: 1000개  \n",
    "output_layer: 7개  "
   ]
  },
  {
   "cell_type": "code",
   "execution_count": 32,
   "id": "80668d0e",
   "metadata": {},
   "outputs": [],
   "source": [
    "input_layer = [0]*input_size # input_layer를 만들어준다 \n",
    "output_layer = [0]*output_size # output_layer를 만들어준다 \n",
    "hidden_layer1 = [0]*hidden_size #hidden_layer1을 만들어준다\n",
    "hidden_layer2 = [0]*hidden_size #hidden_layer2를 만들어준다\n",
    "\n",
    "\n",
    "w1 = [[0 for col in range(input_size)]for row in range(hidden_size)] # 첫번째 가중치 (input_layer에서 hidden_layer로 가는 가중치)\n",
    "w2 = [[0 for col in range(hidden_size)]for row in range(hidden_size)] # 두번째 가중치 (hidden_layer1에서 hidden_layer2로 가는 가중치)\n",
    "w3 = [[0 for col in range(hidden_size)]for row in range(output_size)] # 세번째 가중치 (hidden_layer2에서 output_layer로 가는 가중치)"
   ]
  },
  {
   "cell_type": "markdown",
   "id": "06120f26",
   "metadata": {},
   "source": [
    "## 가중치 초기화 "
   ]
  },
  {
   "cell_type": "code",
   "execution_count": 103,
   "id": "bb84801e",
   "metadata": {},
   "outputs": [],
   "source": [
    "# w1 초기화\n",
    "for i in range(hidden_size): # 행의 개수만큼 for문을 돌려준다 \n",
    "    for j in range(input_size): # 열의 개수만큼 for문을 돌려준다 \n",
    "        w1[i][j]=float(round(random.random(),4)) # i행 j열의 값을 0이상 1미만의 랜덤값으로 만들어준다 소수점 4자리까지 표시(반올림해준다)\n",
    "\n",
    "# w2 초기화\n",
    "for i in range(hidden_size): # 행의 개수만큼 for문을 돌려준다 \n",
    "    for j in range(hidden_size): # 열의 개수만큼 for문을 돌려준다 \n",
    "        w2[i][j]=float(round(random.random(),4)) # i행 j열의 값을 0이상 1미만의 랜덤값으로 만들어준다 소수점 4자리까지 표시(반올림해준다)\n",
    "\n",
    "# w3 초기화\n",
    "for i in range(output_size): # 행의 개수만큼 for문을 돌려준다 \n",
    "    for j in range(hidden_size): # 열의 개수만큼 for문을 돌려준다 \n",
    "        w3[i][j]=float(round(random.random(),4)) # i행 j열의 값을 0이상 1미만의 랜덤값으로 만들어준다 소수점 4자리까지 표시(반올림해준다)\n"
   ]
  },
  {
   "cell_type": "markdown",
   "id": "61cd7259",
   "metadata": {},
   "source": [
    "## 행렬곱 함수"
   ]
  },
  {
   "cell_type": "code",
   "execution_count": 148,
   "id": "9096f53b",
   "metadata": {},
   "outputs": [],
   "source": [
    "def matrixmult(A, B): \n",
    "    row_A = len(A)\n",
    "    col_A = len(A[0])\n",
    "    row_B = len(B) # B는 input 값이기 떄문에 항상 열 개수가 1이다\n",
    "    \n",
    "    if col_A != row_B:\n",
    "        raise ValueError(\"행렬 곱셈이 불가능합니다\")\n",
    "    \n",
    "    C=[0]*row_A # C의 크기는 A의 행 수 x B의 열 수 인데 B의 열 수는 1이라 제외 \n",
    "    for i in range(row_A):\n",
    "            for k in range(col_A):\n",
    "                C[i] += A[i][k]*B[k] # 행렬곱 c[i][j] += A[i][k]*B[k][j](j는 B의 열 번호) 이지만 여기서는 B의 열 개수가 항상 1이므로 제외\n",
    "    return C"
   ]
  },
  {
   "cell_type": "markdown",
   "id": "8cb4b6cb",
   "metadata": {},
   "source": [
    "## 이미지 함수"
   ]
  },
  {
   "cell_type": "code",
   "execution_count": 150,
   "id": "1f91668d",
   "metadata": {},
   "outputs": [],
   "source": [
    "def img_processing(alphabet,num):\n",
    "    img_path = str('./image/learning/'+(chr(alphabet+ord('t')))+str(num+1)+'.png') \n",
    "    img = Image.open(img_path) # 이미지를 불러온다\n",
    "    img = img.convert(\"L\") # 이미지를 흑백으로 바꾼다 \n",
    "    img = list(img.getdata()) # 이미지 데이터를 list 형태로 바꾸어준다 \n",
    "    \n",
    "    return img"
   ]
  },
  {
   "cell_type": "markdown",
   "id": "d8b2b540",
   "metadata": {},
   "source": [
    "## 순전파 함수"
   ]
  },
  {
   "cell_type": "code",
   "execution_count": 151,
   "id": "4eae0315",
   "metadata": {},
   "outputs": [],
   "source": [
    "def FP(img): \n",
    "    #### input_layer ####\n",
    "    for x in range(input_size):\n",
    "        input_layer[x] = float(img[x]) # input_layer에 이미지를 넣어준다\n",
    "    \n",
    "    #### hidden_layer1 ####\n",
    "    hidden_input1 = matrixmult(w1, input_layer) # 행렬곱을 해준다 (가중치 계산 input_layer -> hidden_layer1)\n",
    "            \n",
    "    for x in range(hidden_size):\n",
    "        hidden_layer1[x] = hidden_input1[x] # hidden_layer1에 행렬곱한 결과를 넣어준다 \n",
    "            \n",
    "    hidden_output1 = [0]*hidden_size # hidden_layer1의 output을 초기화 해준다 \n",
    "    for x in range(hidden_size): \n",
    "        hidden_output1[x] = max(0,hidden_layer1[x]) # ReLU연산을 해준다음 hidden_output1에 저장해준다 \n",
    "    \n",
    "    #### hidden_layer2 ####\n",
    "    hidden_input2 = matrixmult(w2, hidden_output1) # 행렬곱을 해준다 (가중치 계산 hidden_layer1 -> hidden_layer2)\n",
    "    \n",
    "    for x in range(hidden_size):\n",
    "        hidden_layer2[x]=hidden_input2[x] # hidden_layer2에 행렬곱한 결과를 넣어준다 \n",
    "        \n",
    "    hidden_output2 = [0]*hidden_size # hidden_layer2의 output을 초기화 해준다 \n",
    "    for x in range(hidden_size):\n",
    "        hidden_output2[x]=max(0,hidden_layer2[x]) # ReLU연산을 해준다음 hidden_output2에 저장해준다 \n",
    "    \n",
    "    #### output_layer ####\n",
    "    output_input = martixmult(w3, hidden_output2) # 행렬곱을 해준다 (가중치 계산 hidden_layer2 -> output_layer)\n",
    "    \n",
    "    for x in range(output_size):\n",
    "        output_layer[x]=output_input[x] # output_layer에 행렬곱한 결과를 넣어준다 \n",
    "        \n",
    "    output_output = [0]*output_size # output_layer의 output을 초기화 해준다\n",
    "    for x in range(output_size):\n",
    "        output_output[x]=max(0,output_layer[x])\n",
    "        \n",
    "    return output_output\n",
    "    \n",
    "    \n",
    "    "
   ]
  },
  {
   "cell_type": "code",
   "execution_count": 149,
   "id": "5f64cbda",
   "metadata": {},
   "outputs": [],
   "source": [
    "# 순전파 \n",
    "for i in range(learning_cycle): # 학습 사이클 \n",
    "    for j in range(output_size): # t~z 까지 \n",
    "        for k in range(data_set): # 데이터셋의 개수만큼 반복\n",
    "            # 이미지 가공 \n",
    "            img = img_processing(j, k)\n",
    "            output = FP(img)\n",
    "\n",
    "            \n",
    "            \n",
    "            \n",
    "            \n",
    "                \n",
    "            \n",
    "            \n",
    "            \n",
    "            \n",
    "\n",
    "            "
   ]
  },
  {
   "cell_type": "code",
   "execution_count": 106,
   "id": "8dfafe50",
   "metadata": {
    "scrolled": true
   },
   "outputs": [
    {
     "name": "stdout",
     "output_type": "stream",
     "text": [
      "103.0\n"
     ]
    }
   ],
   "source": []
  },
  {
   "cell_type": "code",
   "execution_count": 107,
   "id": "f892f2a0",
   "metadata": {},
   "outputs": [
    {
     "ename": "TypeError",
     "evalue": "object of type 'int' has no len()",
     "output_type": "error",
     "traceback": [
      "\u001b[1;31m---------------------------------------------------------------------------\u001b[0m",
      "\u001b[1;31mTypeError\u001b[0m                                 Traceback (most recent call last)",
      "Cell \u001b[1;32mIn[107], line 3\u001b[0m\n\u001b[0;32m      1\u001b[0m A\u001b[38;5;241m=\u001b[39m [\u001b[38;5;241m0\u001b[39m,\u001b[38;5;241m1\u001b[39m,\u001b[38;5;241m2\u001b[39m]\n\u001b[0;32m      2\u001b[0m \u001b[38;5;28mlen\u001b[39m (A)\n\u001b[1;32m----> 3\u001b[0m \u001b[38;5;28;43mlen\u001b[39;49m\u001b[43m(\u001b[49m\u001b[43mA\u001b[49m\u001b[43m[\u001b[49m\u001b[38;5;241;43m0\u001b[39;49m\u001b[43m]\u001b[49m\u001b[43m)\u001b[49m\n",
      "\u001b[1;31mTypeError\u001b[0m: object of type 'int' has no len()"
     ]
    }
   ],
   "source": []
  },
  {
   "cell_type": "code",
   "execution_count": null,
   "id": "3c173907",
   "metadata": {},
   "outputs": [],
   "source": []
  }
 ],
 "metadata": {
  "kernelspec": {
   "display_name": "Python 3 (ipykernel)",
   "language": "python",
   "name": "python3"
  },
  "language_info": {
   "codemirror_mode": {
    "name": "ipython",
    "version": 3
   },
   "file_extension": ".py",
   "mimetype": "text/x-python",
   "name": "python",
   "nbconvert_exporter": "python",
   "pygments_lexer": "ipython3",
   "version": "3.10.9"
  }
 },
 "nbformat": 4,
 "nbformat_minor": 5
}
